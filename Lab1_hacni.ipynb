{
 "cells": [
  {
   "cell_type": "markdown",
   "metadata": {
    "toc-hr-collapsed": false
   },
   "source": [
    "$$\n",
    "\\def\\I{{\\rm i}}\n",
    "\\def\\qqqquad{\\qquad\\qquad}\n",
    "\\def\\qfor{\\qquad\\hbox{for}\\qquad}\n",
    "\\def\\qwhere{\\qquad\\hbox{where}\\qquad}\n",
    "\\def\\ale#1{\\begin{align}#1\\end{align}}\n",
    "\\def\\em{\\epsilon_m}\n",
    "\\def\\unit#1{{\\rm #1}}\n",
    "\\def\\com#1{\\color{blue}{\\textrm{#1}}} \n",
    "$$\n",
    "\n",
    "# Lab1: Intro to Julia\n",
    "\n",
    "In this lab you will gain familiarity with using Julia and the Jupyter notebook environment. \n",
    "\n",
    "This laboratory assignment is divided into two parts. \n",
    "\n",
    "**Time management is important in 365 labs. \n",
    "Have a solid attempt yourself. If you get stuck, be bold about requesting help. You should aim to move on to part 2 by ~ 2.30pm**."
   ]
  },
  {
   "cell_type": "markdown",
   "metadata": {},
   "source": [
    "## Instructions for submitting lab assignments\n",
    "- Submit your lab by ___copying___ this notebook with your answers into `dropbox` on `pleiades` (phsi365 Desktop link > dropbox ). \n",
    "\n",
    "- __Rename your notebook to__ `Lab1_userID.ipynb` before submitting it by dragging it onto the dropbox folder. For example, if your login name is `365joe`, make the notebook called `Lab1_joe.ipynb`. \n",
    "- You can confirm submission (and resubmit up to the deadline), by repeating the process. If you are asked whether to replace the file, this confirms it has been successfully submitted to the dropbox. __Please confirm your submission__.\n",
    "\n",
    "- __Due:__ 1pm Wednesday 4th March.\n",
    "\n",
    "$\\com{Grading comments will appear like this}$\n",
    "\n",
    "---"
   ]
  },
  {
   "cell_type": "markdown",
   "metadata": {
    "toc-hr-collapsed": false
   },
   "source": [
    "# Part 1: Julia and Jupyter notebooks\n",
    "\n",
    "In part 1 we want you to get a feel for how do do some basic calculations in julia. "
   ]
  },
  {
   "cell_type": "markdown",
   "metadata": {},
   "source": [
    "## Jupyter\n",
    "\n",
    "- Follow the steps in the notebook and answer the questions by adding new cells below. A simple way to label them is to put a comment in the cell, e.g. # a) . \n",
    "    - To execute the code in the current cell, hit two keys together: `shift+enter`. \n",
    "    - You can write comments (including latex) in markdown by first creating a cell, then typing the sequence `esc-m` to switch to \"markdown mode\" (or use the toolbar). \n",
    "    - To switch the cell back to code mode, type `esc-y`. \n",
    "    - Other useful commands are `esc-a` (make cell above), `esc-b` (below), and `esc-dd` (delete current cell).\n",
    "\n",
    "- To see all keyboard shortcuts, click on the palette button on the left border of the browser window (above the spanner). \n",
    "\n",
    "- Make sure you understand why `Julia` does what it does. \n",
    "\n",
    "Type the following commands (I will neglect the cell numbers) one-by-one into separate cells, and hit `shift+enter` to evaluate each cell. Check that you receive the same result:\n",
    "```julia\n",
    "In : 1\n",
    "Out: 1\n",
    "```\n",
    "```julia\n",
    "In : 1+1\n",
    "Out: 2\n",
    "```\n",
    "```julia\n",
    "In : 1+\n",
    "Out: syntax: incomplete: premature end of input\n",
    "```\n",
    "```julia\n",
    "In : ans\n",
    "Out: 2\n",
    "```\n",
    "```julia \n",
    "In : x=3\n",
    "Out: 3\n",
    "```\n",
    "Based on the first two inputs we may conclude that `Julia` can be used like any calculator. The second to last input shows that if no variable is assigned, it assigns the value of the calculation to `ans`. However, the third input produces an error message, telling us that our command was not a valid input that `Julia` could interpret. `Julia` tells us that the command ended prematurely, which is not suprising since addition is a binary operator and requires two arguments that are added together. \n",
    "\n",
    "As a matter of convenience, we can also see a summary of all defined variables, functions, and modules in the current julia session using the command `varinfo()`\n",
    "    \n",
    "Similarly to what we have just done above, type each command in a separate cell below. "
   ]
  },
  {
   "cell_type": "code",
   "execution_count": null,
   "metadata": {},
   "outputs": [],
   "source": [
    "1"
   ]
  },
  {
   "cell_type": "code",
   "execution_count": null,
   "metadata": {},
   "outputs": [],
   "source": [
    "1+1"
   ]
  },
  {
   "cell_type": "code",
   "execution_count": null,
   "metadata": {},
   "outputs": [],
   "source": [
    "1+"
   ]
  },
  {
   "cell_type": "code",
   "execution_count": null,
   "metadata": {},
   "outputs": [],
   "source": [
    "ans"
   ]
  },
  {
   "cell_type": "code",
   "execution_count": null,
   "metadata": {},
   "outputs": [],
   "source": [
    "x=3"
   ]
  },
  {
   "cell_type": "code",
   "execution_count": null,
   "metadata": {},
   "outputs": [],
   "source": [
    "varinfo()"
   ]
  },
  {
   "cell_type": "markdown",
   "metadata": {},
   "source": [
    "## Julia"
   ]
  },
  {
   "cell_type": "markdown",
   "metadata": {},
   "source": [
    "1) Give a short answer to each question by adding new cells below.\n",
    "\n",
    "```julia\n",
    "a) cos(1) # does Julia use radians or degrees for trig functions?\n",
    "b) ?cos # how many related functions does Julia suggest?\n",
    "c) [1 2 3 4] # is there any difference between [1 2 3 4] and [1,2,3,4]?\n",
    "d) a = 1 # Julia confirms this command by returning the result. How do you suppress the output? (only needed for the last command in a sequence).\n",
    "e) b = [10 11 23 44]; b[3] # how do you pull out the last element of a vector?\n",
    "f) 5:9 # what does the : (colon) operator do?\n",
    "g) M = randn(4,3) # how can you create a random matrix of size 6980x314?\n",
    "h) x=3; # can you write more than one command in a single line? If \"yes\", how?\n",
    "```"
   ]
  },
  {
   "cell_type": "code",
   "execution_count": null,
   "metadata": {},
   "outputs": [],
   "source": [
    "cos(1) #a) radians\n"
   ]
  },
  {
   "cell_type": "code",
   "execution_count": null,
   "metadata": {},
   "outputs": [],
   "source": [
    "?cos #b) 12 related funtions"
   ]
  },
  {
   "cell_type": "code",
   "execution_count": null,
   "metadata": {},
   "outputs": [],
   "source": [
    "[1 2 3 4] #c) this gives a row vector"
   ]
  },
  {
   "cell_type": "code",
   "execution_count": null,
   "metadata": {},
   "outputs": [],
   "source": [
    "[1,2,3,4] #adding ',' gives a column vector"
   ]
  },
  {
   "cell_type": "code",
   "execution_count": null,
   "metadata": {},
   "outputs": [],
   "source": [
    "a=1"
   ]
  },
  {
   "cell_type": "code",
   "execution_count": null,
   "metadata": {},
   "outputs": [],
   "source": [
    "a=1; #d) adding semi colon after line suppresses the output "
   ]
  },
  {
   "cell_type": "code",
   "execution_count": null,
   "metadata": {},
   "outputs": [],
   "source": [
    "b = [10 11 23 44]; b[3]"
   ]
  },
  {
   "cell_type": "code",
   "execution_count": null,
   "metadata": {},
   "outputs": [],
   "source": [
    "b = [10 11 23 44]; b[end] #e) using 'end' as the index we are able to pick out last element of the vector"
   ]
  },
  {
   "cell_type": "code",
   "execution_count": null,
   "metadata": {},
   "outputs": [],
   "source": [
    "u = collect(5:9) #f) the colon essentially creats a range of integers between the two given numbers\n",
    "                # we can form this range of number into a vector using the'collect command"
   ]
  },
  {
   "cell_type": "code",
   "execution_count": null,
   "metadata": {},
   "outputs": [],
   "source": [
    "M = rand(6980,314) #g) creates random matrix of desired size"
   ]
  },
  {
   "cell_type": "code",
   "execution_count": null,
   "metadata": {},
   "outputs": [],
   "source": [
    "x=3; y=4; z=5; #h) we can put multiple commands on one line by separating with semicolons"
   ]
  },
  {
   "cell_type": "markdown",
   "metadata": {},
   "source": [
    "2) Answer each question using text in a separate cell below each command.\n",
    "\n",
    "```julia\n",
    "a) v=1:4; u = collect(v) # how can we make a column vector [1 2 ... 1000000]^T ?\n",
    "b) w = transpose(v); w = v' # how can we transpose a matrix?\n",
    "c) x = rand(3,3)+im*rand(3,3); transpose(x); x' # what is the difference between transpose and '?\n",
    "d) M = rand(5,5); A=M[2:4,1:3] # what does this command do? \n",
    "e) b = collect(1:12); B=reshape(b,3,4) # what does the second argument of reshape stand for? If you are unsure, use ?\n",
    "```"
   ]
  },
  {
   "cell_type": "code",
   "execution_count": null,
   "metadata": {},
   "outputs": [],
   "source": [
    "v = 1:1000000; u = collect(v) #a) first creating range of numbers from 1 to 100000 then collecting \n",
    "                                #into column vector"
   ]
  },
  {
   "cell_type": "code",
   "execution_count": null,
   "metadata": {},
   "outputs": [],
   "source": [
    "M = [1 2 ; 3 4]; #b) this gives us a 2x2 matrix\n",
    "W = transpose(M); #we can transpose a matrix in the same way as we transpose a vector\n",
    "[M W]             #shows M and W side by side, we can see W is the transpose of M"
   ]
  },
  {
   "cell_type": "code",
   "execution_count": null,
   "metadata": {},
   "outputs": [],
   "source": [
    "x = rand(3,3)+im*rand(3,3); \n",
    "transpose(x) #c) this simply produces a transposed matrix"
   ]
  },
  {
   "cell_type": "code",
   "execution_count": null,
   "metadata": {},
   "outputs": [],
   "source": [
    "x' #c) this transposes the matrix as well as taking the complext conjugate of the entries i.e. the adjoint"
   ]
  },
  {
   "cell_type": "code",
   "execution_count": null,
   "metadata": {},
   "outputs": [],
   "source": [
    "M = rand(5,5); A=M[2:4,1:3] #d) this takes rows 2:4 and columns 1:3 of the matrix M and creates a new \n",
    "                            #matrix A from these entries of M"
   ]
  },
  {
   "cell_type": "code",
   "execution_count": null,
   "metadata": {},
   "outputs": [],
   "source": [
    "b = collect(1:12); B=reshape(b,3,4) #e) takes the vector b and uses its entries to fill a 3x4 matrix\n",
    "                                    #the second arguement '3' specifies the number of rows of the matrix"
   ]
  },
  {
   "cell_type": "markdown",
   "metadata": {},
   "source": [
    "3) Choose \"Kernel\"; \"Restart Kernel and Clear All Outputs\" from the menu above. Enter each command below in a separate cell, evaluate it, and then answer the questions below\n",
    "```julia\n",
    "A = [1 1; -2 6]\n",
    "B = [3 -5;7 2]\n",
    "C = [1 2 3; 2 4 6; 10 11 12]\n",
    "1+A; 1.+A; 1 .+A\n",
    "one(A)+A\n",
    "A+B\n",
    "A-B\n",
    "A*B\n",
    "A.*B\n",
    "@. A*B\n",
    "A/B\n",
    "A./B\n",
    "A^2\n",
    "A.^2\n",
    "A.^B\n",
    "3 .^A; 3.0 .^A\n",
    "A+C\n",
    "```"
   ]
  },
  {
   "cell_type": "code",
   "execution_count": 1,
   "metadata": {},
   "outputs": [
    {
     "data": {
      "text/plain": [
       "2×2 Array{Int64,2}:\n",
       "  1  1\n",
       " -2  6"
      ]
     },
     "execution_count": 1,
     "metadata": {},
     "output_type": "execute_result"
    }
   ],
   "source": [
    "A = [1 1; -2 6]"
   ]
  },
  {
   "cell_type": "code",
   "execution_count": 2,
   "metadata": {},
   "outputs": [
    {
     "data": {
      "text/plain": [
       "2×2 Array{Int64,2}:\n",
       " 3  -5\n",
       " 7   2"
      ]
     },
     "execution_count": 2,
     "metadata": {},
     "output_type": "execute_result"
    }
   ],
   "source": [
    "B = [3 -5;7 2]"
   ]
  },
  {
   "cell_type": "code",
   "execution_count": 3,
   "metadata": {},
   "outputs": [
    {
     "data": {
      "text/plain": [
       "3×3 Array{Int64,2}:\n",
       "  1   2   3\n",
       "  2   4   6\n",
       " 10  11  12"
      ]
     },
     "execution_count": 3,
     "metadata": {},
     "output_type": "execute_result"
    }
   ],
   "source": [
    "C = [1 2 3; 2 4 6; 10 11 12]"
   ]
  },
  {
   "cell_type": "code",
   "execution_count": 5,
   "metadata": {},
   "outputs": [
    {
     "ename": "LoadError",
     "evalue": "syntax: invalid syntax \"1.+\"; add space(s) to clarify",
     "output_type": "error",
     "traceback": [
      "syntax: invalid syntax \"1.+\"; add space(s) to clarify",
      ""
     ]
    }
   ],
   "source": [
    "1+A; 1.+A; 1 .+A"
   ]
  },
  {
   "cell_type": "code",
   "execution_count": 6,
   "metadata": {},
   "outputs": [
    {
     "data": {
      "text/plain": [
       "2×2 Array{Int64,2}:\n",
       "  2  1\n",
       " -2  7"
      ]
     },
     "execution_count": 6,
     "metadata": {},
     "output_type": "execute_result"
    }
   ],
   "source": [
    "one(A)+A"
   ]
  },
  {
   "cell_type": "code",
   "execution_count": 7,
   "metadata": {},
   "outputs": [
    {
     "data": {
      "text/plain": [
       "2×2 Array{Int64,2}:\n",
       " 4  -4\n",
       " 5   8"
      ]
     },
     "execution_count": 7,
     "metadata": {},
     "output_type": "execute_result"
    }
   ],
   "source": [
    "A+B"
   ]
  },
  {
   "cell_type": "code",
   "execution_count": 8,
   "metadata": {},
   "outputs": [
    {
     "data": {
      "text/plain": [
       "2×2 Array{Int64,2}:\n",
       " -2  6\n",
       " -9  4"
      ]
     },
     "execution_count": 8,
     "metadata": {},
     "output_type": "execute_result"
    }
   ],
   "source": [
    "A-B"
   ]
  },
  {
   "cell_type": "code",
   "execution_count": 9,
   "metadata": {},
   "outputs": [
    {
     "data": {
      "text/plain": [
       "2×2 Array{Int64,2}:\n",
       " 10  -3\n",
       " 36  22"
      ]
     },
     "execution_count": 9,
     "metadata": {},
     "output_type": "execute_result"
    }
   ],
   "source": [
    "A*B"
   ]
  },
  {
   "cell_type": "code",
   "execution_count": 10,
   "metadata": {},
   "outputs": [
    {
     "data": {
      "text/plain": [
       "2×2 Array{Int64,2}:\n",
       "   3  -5\n",
       " -14  12"
      ]
     },
     "execution_count": 10,
     "metadata": {},
     "output_type": "execute_result"
    }
   ],
   "source": [
    "A.*B"
   ]
  },
  {
   "cell_type": "code",
   "execution_count": 11,
   "metadata": {},
   "outputs": [
    {
     "data": {
      "text/plain": [
       "2×2 Array{Int64,2}:\n",
       "   3  -5\n",
       " -14  12"
      ]
     },
     "execution_count": 11,
     "metadata": {},
     "output_type": "execute_result"
    }
   ],
   "source": [
    "@. A*B"
   ]
  },
  {
   "cell_type": "code",
   "execution_count": 12,
   "metadata": {},
   "outputs": [
    {
     "data": {
      "text/plain": [
       "2×2 Array{Float64,2}:\n",
       " -0.121951  0.195122\n",
       " -1.12195   0.195122"
      ]
     },
     "execution_count": 12,
     "metadata": {},
     "output_type": "execute_result"
    }
   ],
   "source": [
    "A/B"
   ]
  },
  {
   "cell_type": "code",
   "execution_count": 13,
   "metadata": {},
   "outputs": [
    {
     "data": {
      "text/plain": [
       "2×2 Array{Float64,2}:\n",
       "  0.333333  -0.2\n",
       " -0.285714   3.0"
      ]
     },
     "execution_count": 13,
     "metadata": {},
     "output_type": "execute_result"
    }
   ],
   "source": [
    "A./B"
   ]
  },
  {
   "cell_type": "code",
   "execution_count": 14,
   "metadata": {},
   "outputs": [
    {
     "data": {
      "text/plain": [
       "2×2 Array{Int64,2}:\n",
       "  -1   7\n",
       " -14  34"
      ]
     },
     "execution_count": 14,
     "metadata": {},
     "output_type": "execute_result"
    }
   ],
   "source": [
    "A^2"
   ]
  },
  {
   "cell_type": "code",
   "execution_count": 15,
   "metadata": {},
   "outputs": [
    {
     "data": {
      "text/plain": [
       "2×2 Array{Int64,2}:\n",
       " 1   1\n",
       " 4  36"
      ]
     },
     "execution_count": 15,
     "metadata": {},
     "output_type": "execute_result"
    }
   ],
   "source": [
    "A.^2"
   ]
  },
  {
   "cell_type": "code",
   "execution_count": 16,
   "metadata": {},
   "outputs": [
    {
     "data": {
      "text/plain": [
       "2×2 Array{Int64,2}:\n",
       "    1   1\n",
       " -128  36"
      ]
     },
     "execution_count": 16,
     "metadata": {},
     "output_type": "execute_result"
    }
   ],
   "source": [
    "A.^B"
   ]
  },
  {
   "cell_type": "code",
   "execution_count": 17,
   "metadata": {},
   "outputs": [
    {
     "ename": "DomainError",
     "evalue": "DomainError with -2:\nCannot raise an integer x to a negative power -2.\nMake x or -2 a float by adding a zero decimal (e.g., 2.0^-2 or 2^-2.0 instead of 2^-2), or write 1/x^2, float(x)^-2, x^float(-2) or (x//1)^-2",
     "output_type": "error",
     "traceback": [
      "DomainError with -2:\nCannot raise an integer x to a negative power -2.\nMake x or -2 a float by adding a zero decimal (e.g., 2.0^-2 or 2^-2.0 instead of 2^-2), or write 1/x^2, float(x)^-2, x^float(-2) or (x//1)^-2",
      "",
      "Stacktrace:",
      " [1] _broadcast_getindex at ./intfuncs.jl:221 [inlined]",
      " [2] getindex at ./broadcast.jl:563 [inlined]",
      " [3] macro expansion at ./broadcast.jl:909 [inlined]",
      " [4] macro expansion at ./simdloop.jl:77 [inlined]",
      " [5] copyto! at ./broadcast.jl:908 [inlined]",
      " [6] copyto! at ./broadcast.jl:863 [inlined]",
      " [7] copy at ./broadcast.jl:839 [inlined]",
      " [8] materialize(::Base.Broadcast.Broadcasted{Base.Broadcast.DefaultArrayStyle{2},Nothing,typeof(^),Tuple{Int64,Array{Int64,2}}}) at ./broadcast.jl:819",
      " [9] top-level scope at In[17]:1"
     ]
    }
   ],
   "source": [
    "3 .^A; 3.0 .^A"
   ]
  },
  {
   "cell_type": "code",
   "execution_count": 18,
   "metadata": {},
   "outputs": [
    {
     "ename": "DimensionMismatch",
     "evalue": "DimensionMismatch(\"dimensions must match\")",
     "output_type": "error",
     "traceback": [
      "DimensionMismatch(\"dimensions must match\")",
      "",
      "Stacktrace:",
      " [1] promote_shape at ./indices.jl:154 [inlined]",
      " [2] promote_shape at ./indices.jl:145 [inlined]",
      " [3] +(::Array{Int64,2}, ::Array{Int64,2}) at ./arraymath.jl:45",
      " [4] top-level scope at In[18]:1"
     ]
    }
   ],
   "source": [
    "A+C"
   ]
  },
  {
   "cell_type": "markdown",
   "metadata": {},
   "source": [
    "a) What does the second `2` in `2:2:6` mean?\n",
    "\n",
    "b) What is the difference between `*` and `.*`? How about `^` and `.^`?\n",
    "\n",
    "c) What does each element of `A.^B` give in `julia`?\n",
    "\n",
    "d) What is the result of `A+C`? Why?\n",
    "\n",
    "e) Find in the help system what the operator `/` does; give a short explanation.\n",
    "\n",
    "f) Could you exponentiate `A` to `B`, i.e. `A^B`, or just element-wise? If \"no\", then what if the error message? If \"yes\", what is the result?"
   ]
  },
  {
   "cell_type": "code",
   "execution_count": 22,
   "metadata": {},
   "outputs": [
    {
     "data": {
      "text/plain": [
       "3-element Array{Int64,1}:\n",
       " 2\n",
       " 4\n",
       " 6"
      ]
     },
     "execution_count": 22,
     "metadata": {},
     "output_type": "execute_result"
    }
   ],
   "source": [
    "a = collect(2:2:6) #a) the second 2 specifies the step size between elements in the range specified"
   ]
  },
  {
   "cell_type": "markdown",
   "metadata": {},
   "source": [
    "b)using '*' performs normal matrix multiplication whereas '.*' multiplies together corresponding elements of the two matricies\n",
    "'^' raises a matrix to a power in the standard way i.e. A^2 = A * A as defined by matrix multiplication\n",
    "'.^' raises each entry in the matrix to a specified power"
   ]
  },
  {
   "cell_type": "markdown",
   "metadata": {},
   "source": [
    "c) This raises each element in A to the power of the corresponding element in B"
   ]
  },
  {
   "cell_type": "markdown",
   "metadata": {},
   "source": [
    "d) This produces an error \"dimensions must match\" because the dimensions of A and C differ and matrix addition is only defined for matrices of the same size"
   ]
  },
  {
   "cell_type": "code",
   "execution_count": 24,
   "metadata": {},
   "outputs": [
    {
     "name": "stdout",
     "output_type": "stream",
     "text": [
      "search: \u001b[0m\u001b[1m/\u001b[22m \u001b[0m\u001b[1m/\u001b[22m/\n",
      "\n"
     ]
    },
    {
     "data": {
      "text/latex": [
       "\\begin{verbatim}\n",
       "/(x, y)\n",
       "\\end{verbatim}\n",
       "Right division operator: multiplication of \\texttt{x} by the inverse of \\texttt{y} on the right. Gives floating-point results for integer arguments.\n",
       "\n",
       "\\section{Examples}\n",
       "\\begin{verbatim}\n",
       "julia> 1/2\n",
       "0.5\n",
       "\n",
       "julia> 4/2\n",
       "2.0\n",
       "\n",
       "julia> 4.5/2\n",
       "2.25\n",
       "\\end{verbatim}\n"
      ],
      "text/markdown": [
       "```\n",
       "/(x, y)\n",
       "```\n",
       "\n",
       "Right division operator: multiplication of `x` by the inverse of `y` on the right. Gives floating-point results for integer arguments.\n",
       "\n",
       "# Examples\n",
       "\n",
       "```jldoctest\n",
       "julia> 1/2\n",
       "0.5\n",
       "\n",
       "julia> 4/2\n",
       "2.0\n",
       "\n",
       "julia> 4.5/2\n",
       "2.25\n",
       "```\n"
      ],
      "text/plain": [
       "\u001b[36m  /(x, y)\u001b[39m\n",
       "\n",
       "  Right division operator: multiplication of \u001b[36mx\u001b[39m by the inverse of \u001b[36my\u001b[39m on the\n",
       "  right. Gives floating-point results for integer arguments.\n",
       "\n",
       "\u001b[1m  Examples\u001b[22m\n",
       "\u001b[1m  ≡≡≡≡≡≡≡≡≡≡\u001b[22m\n",
       "\n",
       "\u001b[36m  julia> 1/2\u001b[39m\n",
       "\u001b[36m  0.5\u001b[39m\n",
       "\u001b[36m  \u001b[39m\n",
       "\u001b[36m  julia> 4/2\u001b[39m\n",
       "\u001b[36m  2.0\u001b[39m\n",
       "\u001b[36m  \u001b[39m\n",
       "\u001b[36m  julia> 4.5/2\u001b[39m\n",
       "\u001b[36m  2.25\u001b[39m"
      ]
     },
     "execution_count": 24,
     "metadata": {},
     "output_type": "execute_result"
    }
   ],
   "source": [
    "?/"
   ]
  },
  {
   "cell_type": "markdown",
   "metadata": {},
   "source": [
    "e) The / operator takes two arguements and essentially divides the first arguement by the second returning a float"
   ]
  },
  {
   "cell_type": "code",
   "execution_count": 27,
   "metadata": {},
   "outputs": [
    {
     "ename": "MethodError",
     "evalue": "MethodError: no method matching ^(::Array{Int64,2}, ::Array{Int64,2})\nClosest candidates are:\n  ^(!Matched::Irrational{:ℯ}, ::AbstractArray{T,2} where T) at /builddir/build/BUILD/julia/build/usr/share/julia/stdlib/v1.3/LinearAlgebra/src/dense.jl:546\n  ^(::AbstractArray{T,2}, !Matched::Integer) where T<:Integer at /builddir/build/BUILD/julia/build/usr/share/julia/stdlib/v1.3/LinearAlgebra/src/dense.jl:408\n  ^(::AbstractArray{T,2} where T, !Matched::Integer) at /builddir/build/BUILD/julia/build/usr/share/julia/stdlib/v1.3/LinearAlgebra/src/dense.jl:404\n  ...",
     "output_type": "error",
     "traceback": [
      "MethodError: no method matching ^(::Array{Int64,2}, ::Array{Int64,2})\nClosest candidates are:\n  ^(!Matched::Irrational{:ℯ}, ::AbstractArray{T,2} where T) at /builddir/build/BUILD/julia/build/usr/share/julia/stdlib/v1.3/LinearAlgebra/src/dense.jl:546\n  ^(::AbstractArray{T,2}, !Matched::Integer) where T<:Integer at /builddir/build/BUILD/julia/build/usr/share/julia/stdlib/v1.3/LinearAlgebra/src/dense.jl:408\n  ^(::AbstractArray{T,2} where T, !Matched::Integer) at /builddir/build/BUILD/julia/build/usr/share/julia/stdlib/v1.3/LinearAlgebra/src/dense.jl:404\n  ...",
      "",
      "Stacktrace:",
      " [1] top-level scope at In[27]:1"
     ]
    }
   ],
   "source": [
    "A^B"
   ]
  },
  {
   "cell_type": "markdown",
   "metadata": {},
   "source": [
    "f) we cannot exponentiate A^B in julia as there is no matching method which takes a matrix and exponentiates it to another matrix in the way that we are trying to do."
   ]
  },
  {
   "cell_type": "markdown",
   "metadata": {
    "toc-hr-collapsed": false
   },
   "source": [
    "# Part 2: Functions and vectorizing\n",
    "This second part of the lab contains 2 problems which you should solve and discuss in this `Jupyter` notebook. The aim of this part of the lab is understand the value of putting hard-working code inside functions and calling the function. You will also learn about broadcasting, and timing code."
   ]
  },
  {
   "cell_type": "markdown",
   "metadata": {},
   "source": [
    "We have seen in lectures that a function can be defined as simply as `f(x)=x^2`. For more complicated functions, the general way to define a function in `julia` is, e.g:\n",
    "\n",
    "```julia \n",
    "function f(x)\n",
    "    a = cos(x)\n",
    "    b = 3\n",
    "    return a,b\n",
    "end\n",
    "```\n",
    "and in this case, would be called for `x=3` with the command `a,b=f(3)`, assigning two numbers to variables `a`, `b` _outside the function_. Let's start working with julia functions."
   ]
  },
  {
   "cell_type": "markdown",
   "metadata": {},
   "source": [
    "## To vectorize or not to vectorize?\n",
    "\n",
    "A common strategy in technical computing is to ___vectorize___ your code. This refers to the process of expressing your problem in terms of vectors or matrices and (hopefully) sparse matrices acting on them. This allows high level languages like Matlab to call efficient compiled C-libraries for linear algebra. In many languages (Matlab for example) vectorizing is essential because `for` loops are slow. \n",
    "\n",
    "Let's find out how what julia has to say about this by investigating a simple example in detail. \n",
    "\n",
    "We will need to know how to time code in julia. You can use the macro `@time` to time any expression, e.g.\n",
    "\n",
    "```julia\n",
    "@time f(x)\n",
    "```\n",
    "\n",
    "will give the evaluation time for `f(x)` with that value of `x`. \n",
    "\n",
    "A longer expression can be timed by using a `begin-end` block:\n",
    "\n",
    "```julia\n",
    "@time begin\n",
    "...\n",
    "end\n",
    "```\n",
    "\n",
    "Let's say we want to calculate the sum of the reciprocals of the first ten thousand cubes, i.e. \n",
    "\n",
    "$$s = 1^{-3}+2^{-3}+3^{-3}+\\dots +10000^{-3},$$\n",
    "\n",
    "an approximation to $\\zeta(3)$, where the [Riemann-zeta function](https://en.wikipedia.org/wiki/Riemann_zeta_function)\n",
    "\n",
    "$$\\boxed{\\quad\\zeta(z)=\\sum_{k=1}^\\infty\\frac{1}{k^z}\\quad}$$\n",
    "\n",
    "is an important function in several branches of Physics. \n",
    "\n",
    "Determine $s$ using `julia` in three different ways.\n",
    "\n",
    "(a) Use a [for loop](https://docs.julialang.org/en/v1/manual/control-flow/#man-loops-1). You will need to initialize the sum outside the loop (`s=0.0`), and then to modify `s` inside the loop, use  `global s = ...`. This is a slight peculiarity of julia loops that it is good to be aware of. Notice also that the statement \n",
    "```julia\n",
    "s=0.0\n",
    "```\n",
    "given directly to julia defines a global variable: ___all variables outside function definitions are global___. This also means they can often lead to slower code (harder for the compiler to reason about). Hence an important lesson in julia is: if speed matters to you always use functions. This is also good practice because ___it makes your code more reusable.___\n",
    "\n",
    "Time this code. \n",
    "\n",
    "(b) Put your for loop inside a [function](https://docs.julialang.org/en/v1/manual/functions/#) `mysum1()`. Time this. __Note:__ the first time you call a function, the compiler does some extra work. So the true timing we are interested in is for any call _after_ the first one where it is defined (redefinitions count as definitions too!).\n",
    "\n",
    "(c) Use only a single-line __vectorised__ `julia` expression to calculate $s$ (no function wrapper). If you haven't done this before, the strategy is to define a vector `n=[1 2 3 ... 10000]` (you can do this with a range object `1:10000`, even though it looks a bit different to a vector, it still behaves like one in most circumstances). Then perform local (dot) operations to achieve the result. You should be able to get this down to one very short expression that easily fits on one line. Time it.\n",
    "\n",
    "(d) Wrap your single-line expression in a function `mysum2()` and time this. \n",
    "\n",
    "(e) Use the package [BenchmarkTools](https://github.com/JuliaCI/BenchmarkTools.jl), and the macro `@btime` to compare more accurate timings for (b),(c),(d) (`@btime` averages over multiple calls, so the garbage collection is triggered. This is a more honest realistic time). What can you conclude about the speed of vectorizing (writing in terms of array operations), as compared with writing a `for` loop? Would you recommend vectorizing code in julia? Why? "
   ]
  },
  {
   "cell_type": "code",
   "execution_count": 46,
   "metadata": {},
   "outputs": [
    {
     "name": "stdout",
     "output_type": "stream",
     "text": [
      "1.202056898160098  0.000523 seconds (20.03 k allocations: 313.484 KiB)\n"
     ]
    }
   ],
   "source": [
    "#a)\n",
    "@time begin \n",
    "    s = 0.0   #initialises the sum\n",
    "\n",
    "    for i = 1:10000 #dummy variable runs from 1 to 100000 to produce sequence\n",
    "        global s = s + i^(-3) #each term in the sequence is added to the global variable 's' to keep track of the sum\n",
    "    end\n",
    "    print(s) #the total sum is presented after for loop has run\n",
    "end"
   ]
  },
  {
   "cell_type": "code",
   "execution_count": 73,
   "metadata": {},
   "outputs": [
    {
     "data": {
      "text/plain": [
       "mysum1 (generic function with 1 method)"
      ]
     },
     "execution_count": 73,
     "metadata": {},
     "output_type": "execute_result"
    }
   ],
   "source": [
    "#b)\n",
    "function mysum1() #same as a) but wrapped in a function\n",
    "        s = 0.0   \n",
    "        for i = 1:10000\n",
    "            s = s + i^(-3)\n",
    "        end\n",
    "    return(s)\n",
    "end"
   ]
  },
  {
   "cell_type": "code",
   "execution_count": 76,
   "metadata": {},
   "outputs": [
    {
     "name": "stdout",
     "output_type": "stream",
     "text": [
      "  0.000013 seconds (5 allocations: 176 bytes)\n"
     ]
    },
    {
     "data": {
      "text/plain": [
       "1.202056898160098"
      ]
     },
     "execution_count": 76,
     "metadata": {},
     "output_type": "execute_result"
    }
   ],
   "source": [
    "#b)\n",
    "@time mysum1()"
   ]
  },
  {
   "cell_type": "code",
   "execution_count": 80,
   "metadata": {},
   "outputs": [
    {
     "name": "stdout",
     "output_type": "stream",
     "text": [
      "  0.000053 seconds (13 allocations: 78.516 KiB)\n"
     ]
    },
    {
     "data": {
      "text/plain": [
       "1.2020568981600943"
      ]
     },
     "execution_count": 80,
     "metadata": {},
     "output_type": "execute_result"
    }
   ],
   "source": [
    "#c)\n",
    "@time begin\n",
    "    s = sum((1:10000).^(-3)) #first we create a range of numbers from 1 to 10000 then sum the reciprical of the cube of each\n",
    "end"
   ]
  },
  {
   "cell_type": "code",
   "execution_count": 82,
   "metadata": {},
   "outputs": [
    {
     "data": {
      "text/plain": [
       "mysum2 (generic function with 1 method)"
      ]
     },
     "execution_count": 82,
     "metadata": {},
     "output_type": "execute_result"
    }
   ],
   "source": [
    "#e)\n",
    "function mysum2()\n",
    "    s = sum((1:10000).^(-3));\n",
    "    return(s)\n",
    "end"
   ]
  },
  {
   "cell_type": "code",
   "execution_count": 83,
   "metadata": {},
   "outputs": [
    {
     "name": "stdout",
     "output_type": "stream",
     "text": [
      "  0.034176 seconds (213.91 k allocations: 11.522 MiB)\n"
     ]
    },
    {
     "data": {
      "text/plain": [
       "1.2020568981600943"
      ]
     },
     "execution_count": 83,
     "metadata": {},
     "output_type": "execute_result"
    }
   ],
   "source": [
    "@time mysum2()"
   ]
  },
  {
   "cell_type": "code",
   "execution_count": 86,
   "metadata": {},
   "outputs": [
    {
     "name": "stdout",
     "output_type": "stream",
     "text": [
      "  10.379 μs (0 allocations: 0 bytes)\n"
     ]
    },
    {
     "data": {
      "text/plain": [
       "1.202056898160098"
      ]
     },
     "execution_count": 86,
     "metadata": {},
     "output_type": "execute_result"
    }
   ],
   "source": [
    "#e)\n",
    "using BenchmarkTools\n",
    "\n",
    "@btime mysum1() #measuring time when using a for loop in a function"
   ]
  },
  {
   "cell_type": "code",
   "execution_count": 89,
   "metadata": {},
   "outputs": [
    {
     "name": "stdout",
     "output_type": "stream",
     "text": [
      "  7.332 μs (2 allocations: 78.20 KiB)\n"
     ]
    },
    {
     "data": {
      "text/plain": [
       "1.2020568981600943"
      ]
     },
     "execution_count": 89,
     "metadata": {},
     "output_type": "execute_result"
    }
   ],
   "source": [
    "#e)\n",
    "using BenchmarkTools\n",
    "\n",
    "@btime s = sum((1:10000).^(-3)) #measuring time when using vectorizing"
   ]
  },
  {
   "cell_type": "code",
   "execution_count": 90,
   "metadata": {},
   "outputs": [
    {
     "name": "stdout",
     "output_type": "stream",
     "text": [
      "  7.351 μs (2 allocations: 78.20 KiB)\n"
     ]
    },
    {
     "data": {
      "text/plain": [
       "1.2020568981600943"
      ]
     },
     "execution_count": 90,
     "metadata": {},
     "output_type": "execute_result"
    }
   ],
   "source": [
    "#e)\n",
    "using BenchmarkTools\n",
    "\n",
    "@btime mysum2()  #measuring time when using vectorizing and wrapping in a function"
   ]
  },
  {
   "cell_type": "markdown",
   "metadata": {},
   "source": [
    "e) We can see from the examples above using @btime that for this processing vectorizing is very slightly faster. I woulod recommend vectorizing when larger scale projects are undertaken as these time differences may become more significant. We can also see that we can achieve the same result with vectorising in less code when compared to for loops so this could save time and improve efficiency when writing code.\n"
   ]
  }
 ],
 "metadata": {
  "kernelspec": {
   "display_name": "Julia 1.3.1",
   "language": "julia",
   "name": "julia-1.3"
  },
  "language_info": {
   "file_extension": ".jl",
   "mimetype": "application/julia",
   "name": "julia",
   "version": "1.3.1"
  }
 },
 "nbformat": 4,
 "nbformat_minor": 4
}
