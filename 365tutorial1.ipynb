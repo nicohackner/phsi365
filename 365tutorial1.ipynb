{
 "cells": [
  {
   "cell_type": "code",
   "execution_count": null,
   "metadata": {},
   "outputs": [],
   "source": [
    "x=3"
   ]
  },
  {
   "cell_type": "code",
   "execution_count": null,
   "metadata": {},
   "outputs": [],
   "source": [
    "# title"
   ]
  },
  {
   "cell_type": "markdown",
   "metadata": {},
   "source": [
    "# PHSI365 tutorial 1\n",
    "As a final installation check, please verify that you can run all of the following cells, giving results identical to those on the projector screen. \n",
    "\n",
    "Any problems? Let us know!"
   ]
  },
  {
   "cell_type": "markdown",
   "metadata": {},
   "source": [
    "# Boot and login\n",
    "- (re-) Boot the machine and choose ___Fedora___\n",
    "\n",
    "- A student `Julie Smith` with student ID `1234567` should log in as\n",
    "\n",
    "__username:__ `365smiju`\n",
    "\n",
    "__password:__ `phsi1234567`\n",
    "\n",
    "You should change your password after login."
   ]
  },
  {
   "cell_type": "markdown",
   "metadata": {},
   "source": [
    "# Set up the links\n",
    "\n",
    "- Run the script `phis365_setup.sh`: Open a terminal, type the command `./phsi365_setup.sh`\n",
    "and press enter. This will setup the julia packages required for `PHIS 365` and some useful links on your desktop. \n",
    "\n",
    "- Inside the common folder you will find this notebook. ___Copy it to your own folder___ `365yourID`"
   ]
  },
  {
   "cell_type": "markdown",
   "metadata": {
    "toc-hr-collapsed": true
   },
   "source": [
    "# Set up and launch jupyter"
   ]
  },
  {
   "cell_type": "markdown",
   "metadata": {},
   "source": [
    "Open the terminal (shell), by clicking on the black box icon on the launch bar at the bottom of the screen.\n",
    "\n",
    "type `julia` and press enter to execute the command."
   ]
  },
  {
   "cell_type": "markdown",
   "metadata": {},
   "source": [
    "- Browse to your folder and open this notebook. \n",
    "\n",
    "- To run all commmands in a cell, hit the keys [shift]+[enter] simultaneously."
   ]
  },
  {
   "cell_type": "code",
   "execution_count": 1,
   "metadata": {},
   "outputs": [
    {
     "data": {
      "text/html": [
       "<script>\n",
       "// Immediately-invoked-function-expression to avoid global variables.\n",
       "(function() {\n",
       "    var warning_div = document.getElementById(\"webio-warning-18271365057703094630\");\n",
       "    var hide = function () {\n",
       "        var script = document.getElementById(\"webio-setup-622483490920962181\");\n",
       "        var parent = script && script.parentElement;\n",
       "        var grandparent = parent && parent.parentElement;\n",
       "        if (grandparent) {\n",
       "            grandparent.style.display = \"none\";\n",
       "        }\n",
       "        warning_div.style.display = \"none\";\n",
       "    };\n",
       "    if (typeof Jupyter !== \"undefined\") {\n",
       "        console.log(\"WebIO detected Jupyter notebook environment.\");\n",
       "        // Jupyter notebook.\n",
       "        var extensions = (\n",
       "            Jupyter\n",
       "            && Jupyter.notebook.config.data\n",
       "            && Jupyter.notebook.config.data.load_extensions\n",
       "        );\n",
       "        if (extensions && extensions[\"webio-jupyter-notebook\"]) {\n",
       "            // Extension already loaded.\n",
       "            console.log(\"Jupyter WebIO nbextension detected; not loading ad-hoc.\");\n",
       "            hide();\n",
       "            return;\n",
       "        }\n",
       "    } else if (window.location.pathname.includes(\"/lab\")) {\n",
       "        // Guessing JupyterLa\n",
       "        console.log(\"Jupyter Lab detected; make sure the @webio/jupyter-lab-provider labextension is installed.\");\n",
       "        hide();\n",
       "        return;\n",
       "    }\n",
       "})();\n",
       "\n",
       "</script>\n",
       "<p\n",
       "    id=\"webio-warning-18271365057703094630\"\n",
       "    class=\"output_text output_stderr\"\n",
       "    style=\"padding: 1em; font-weight: bold;\"\n",
       ">\n",
       "    Unable to load WebIO. Please make sure WebIO works for your Jupyter client.\n",
       "    For troubleshooting, please see <a href=\"https://juliagizmos.github.io/WebIO.jl/latest/providers/ijulia/\">\n",
       "    the WebIO/IJulia documentation</a>.\n",
       "    <!-- TODO: link to installation docs. -->\n",
       "</p>\n"
      ],
      "text/plain": [
       "HTML{String}(\"<script>\\n// Immediately-invoked-function-expression to avoid global variables.\\n(function() {\\n    var warning_div = document.getElementById(\\\"webio-warning-18271365057703094630\\\");\\n    var hide = function () {\\n        var script = document.getElementById(\\\"webio-setup-622483490920962181\\\");\\n        var parent = script && script.parentElement;\\n        var grandparent = parent && parent.parentElement;\\n        if (grandparent) {\\n            grandparent.style.display = \\\"none\\\";\\n        }\\n        warning_div.style.display = \\\"none\\\";\\n    };\\n    if (typeof Jupyter !== \\\"undefined\\\") {\\n        console.log(\\\"WebIO detected Jupyter notebook environment.\\\");\\n        // Jupyter notebook.\\n        var extensions = (\\n            Jupyter\\n            && Jupyter.notebook.config.data\\n            && Jupyter.notebook.config.data.load_extensions\\n        );\\n        if (extensions && extensions[\\\"webio-jupyter-notebook\\\"]) {\\n            // Extension already loaded.\\n            console.log(\\\"Jupyter WebIO nbextension detected; not loading ad-hoc.\\\");\\n            hide();\\n            return;\\n        }\\n    } else if (window.location.pathname.includes(\\\"/lab\\\")) {\\n        // Guessing JupyterLa\\n        console.log(\\\"Jupyter Lab detected; make sure the @webio/jupyter-lab-provider labextension is installed.\\\");\\n        hide();\\n        return;\\n    }\\n})();\\n\\n</script>\\n<p\\n    id=\\\"webio-warning-18271365057703094630\\\"\\n    class=\\\"output_text output_stderr\\\"\\n    style=\\\"padding: 1em; font-weight: bold;\\\"\\n>\\n    Unable to load WebIO. Please make sure WebIO works for your Jupyter client.\\n    For troubleshooting, please see <a href=\\\"https://juliagizmos.github.io/WebIO.jl/latest/providers/ijulia/\\\">\\n    the WebIO/IJulia documentation</a>.\\n    <!-- TODO: link to installation docs. -->\\n</p>\\n\")"
      ]
     },
     "metadata": {},
     "output_type": "display_data"
    }
   ],
   "source": [
    "using Plots, Interact, LaTeXStrings\n",
    "gr(size=(700,200),grid=false,legend=false);"
   ]
  },
  {
   "cell_type": "markdown",
   "metadata": {},
   "source": [
    "## Interactive plot\n",
    "The following cell should create an interactive plot, with a slider that updates the figure. If the slider doesn't work first time, you may need to \"refresh your browser\" [ctrl]+[r]."
   ]
  },
  {
   "cell_type": "code",
   "execution_count": 5,
   "metadata": {},
   "outputs": [
    {
     "data": {
      "text/plain": [
       "100-element Array{Float64,1}:\n",
       "  0.0                \n",
       "  0.10083842025810462\n",
       "  0.20064885652268544\n",
       "  0.2984138044476411 \n",
       "  0.39313661214832984\n",
       "  0.48385164043793466\n",
       "  0.5696341069089657 \n",
       "  0.6496095135057065 \n",
       "  0.7229625614794606 \n",
       "  0.7889454628442574 \n",
       "  0.8468855636029834 \n",
       "  0.8961922010299563 \n",
       "  0.9363627251042848 \n",
       "  ⋮                  \n",
       "  0.510605678474283  \n",
       "  0.4213006405886069 \n",
       "  0.32770070881349983\n",
       "  0.23076007532505177\n",
       "  0.13146698864295842\n",
       "  0.03083367906114098\n",
       " -0.07011396040064677\n",
       " -0.1703468323280965 \n",
       " -0.26884312591038406\n",
       " -0.3645987336558887 \n",
       " -0.45663748763377376\n",
       " -0.5440211108893698 "
      ]
     },
     "execution_count": 5,
     "metadata": {},
     "output_type": "execute_result"
    }
   ],
   "source": [
    "sin.(x)"
   ]
  },
  {
   "cell_type": "code",
   "execution_count": 4,
   "metadata": {},
   "outputs": [
    {
     "data": {
      "application/vnd.webio.node+json": {
       "children": [
        {
         "children": [
          {
           "children": [
            {
             "children": [
              {
               "children": [
                {
                 "children": [
                  "j"
                 ],
                 "instanceArgs": {
                  "namespace": "html",
                  "tag": "label"
                 },
                 "nodeType": "DOM",
                 "props": {
                  "className": "interact ",
                  "style": {
                   "padding": "5px 10px 0px 10px"
                  }
                 },
                 "type": "node"
                }
               ],
               "instanceArgs": {
                "namespace": "html",
                "tag": "div"
               },
               "nodeType": "DOM",
               "props": {
                "className": "interact-flex-row-left"
               },
               "type": "node"
              },
              {
               "children": [
                {
                 "children": [],
                 "instanceArgs": {
                  "namespace": "html",
                  "tag": "input"
                 },
                 "nodeType": "DOM",
                 "props": {
                  "attributes": {
                   "data-bind": "numericValue: index, valueUpdate: 'input', event: {change: function (){this.changes(this.changes()+1)}}",
                   "orient": "horizontal",
                   "type": "range"
                  },
                  "className": "slider slider is-fullwidth",
                  "max": 10,
                  "min": 0,
                  "step": 1,
                  "style": {}
                 },
                 "type": "node"
                }
               ],
               "instanceArgs": {
                "namespace": "html",
                "tag": "div"
               },
               "nodeType": "DOM",
               "props": {
                "className": "interact-flex-row-center"
               },
               "type": "node"
              },
              {
               "children": [
                {
                 "children": [],
                 "instanceArgs": {
                  "namespace": "html",
                  "tag": "p"
                 },
                 "nodeType": "DOM",
                 "props": {
                  "attributes": {
                   "data-bind": "text: formatted_val"
                  }
                 },
                 "type": "node"
                }
               ],
               "instanceArgs": {
                "namespace": "html",
                "tag": "div"
               },
               "nodeType": "DOM",
               "props": {
                "className": "interact-flex-row-right"
               },
               "type": "node"
              }
             ],
             "instanceArgs": {
              "namespace": "html",
              "tag": "div"
             },
             "nodeType": "DOM",
             "props": {
              "className": "interact-flex-row interact-widget"
             },
             "type": "node"
            }
           ],
           "instanceArgs": {
            "handlers": {
             "changes": [
              "(function (val){return (val!=this.model[\"changes\"]()) ? (this.valueFromJulia[\"changes\"]=true, this.model[\"changes\"](val)) : undefined})"
             ],
             "index": [
              "(function (val){return (val!=this.model[\"index\"]()) ? (this.valueFromJulia[\"index\"]=true, this.model[\"index\"](val)) : undefined})"
             ]
            },
            "id": "9146225803357748877",
            "imports": {
             "data": [
              {
               "name": "knockout",
               "type": "js",
               "url": "/assetserver/c745b45446e53434188646e7ab5027b338525470-knockout.js"
              },
              {
               "name": "knockout_punches",
               "type": "js",
               "url": "/assetserver/186c395d602dc61d968c44ac922b2a694ade623d-knockout_punches.js"
              },
              {
               "name": null,
               "type": "js",
               "url": "/assetserver/5b835c77829057109e99e24346098048895f3608-all.js"
              },
              {
               "name": null,
               "type": "css",
               "url": "/assetserver/4ca2ed513a70ee4374f9fd6ada65c05b9cc8d873-style.css"
              },
              {
               "name": null,
               "type": "css",
               "url": "/assetserver/d9ab1827248233724dbb26aa645fddd368c2e0ca-bulma_confined.min.css"
              }
             ],
             "type": "async_block"
            },
            "mount_callbacks": [
             "function () {\n    var handler = (function (ko, koPunches) {\n    ko.punches.enableAll();\n    ko.bindingHandlers.numericValue = {\n        init: function(element, valueAccessor, allBindings, data, context) {\n            var stringified = ko.observable(ko.unwrap(valueAccessor()));\n            stringified.subscribe(function(value) {\n                var val = parseFloat(value);\n                if (!isNaN(val)) {\n                    valueAccessor()(val);\n                }\n            });\n            valueAccessor().subscribe(function(value) {\n                var str = JSON.stringify(value);\n                if ((str == \"0\") && ([\"-0\", \"-0.\"].indexOf(stringified()) >= 0))\n                     return;\n                 if ([\"null\", \"\"].indexOf(str) >= 0)\n                     return;\n                stringified(str);\n            });\n            ko.applyBindingsToNode(\n                element,\n                {\n                    value: stringified,\n                    valueUpdate: allBindings.get('valueUpdate'),\n                },\n                context,\n            );\n        }\n    };\n    var json_data = {\"formatted_vals\":[\"0\",\"1\",\"2\",\"3\",\"4\",\"5\",\"6\",\"7\",\"8\",\"9\",\"10\"],\"changes\":WebIO.getval({\"name\":\"changes\",\"scope\":\"9146225803357748877\",\"id\":\"ob_10\",\"type\":\"observable\"}),\"index\":WebIO.getval({\"name\":\"index\",\"scope\":\"9146225803357748877\",\"id\":\"ob_09\",\"type\":\"observable\"})};\n    var self = this;\n    function AppViewModel() {\n        for (var key in json_data) {\n            var el = json_data[key];\n            this[key] = Array.isArray(el) ? ko.observableArray(el) : ko.observable(el);\n        }\n        \n        [this[\"formatted_val\"]=ko.computed(    function(){\n        return this.formatted_vals()[parseInt(this.index())-(0)];\n    }\n,this)]\n        [this[\"changes\"].subscribe((function (val){!(this.valueFromJulia[\"changes\"]) ? (WebIO.setval({\"name\":\"changes\",\"scope\":\"9146225803357748877\",\"id\":\"ob_10\",\"type\":\"observable\"},val)) : undefined; return this.valueFromJulia[\"changes\"]=false}),self),this[\"index\"].subscribe((function (val){!(this.valueFromJulia[\"index\"]) ? (WebIO.setval({\"name\":\"index\",\"scope\":\"9146225803357748877\",\"id\":\"ob_09\",\"type\":\"observable\"},val)) : undefined; return this.valueFromJulia[\"index\"]=false}),self)]\n        \n    }\n    self.model = new AppViewModel();\n    self.valueFromJulia = {};\n    for (var key in json_data) {\n        self.valueFromJulia[key] = false;\n    }\n    ko.applyBindings(self.model, self.dom);\n}\n);\n    (WebIO.importBlock({\"data\":[{\"name\":\"knockout\",\"type\":\"js\",\"url\":\"/assetserver/c745b45446e53434188646e7ab5027b338525470-knockout.js\"},{\"name\":\"knockout_punches\",\"type\":\"js\",\"url\":\"/assetserver/186c395d602dc61d968c44ac922b2a694ade623d-knockout_punches.js\"}],\"type\":\"async_block\"})).then((imports) => handler.apply(this, imports));\n}\n"
            ],
            "observables": {
             "changes": {
              "id": "ob_10",
              "sync": false,
              "value": 0
             },
             "index": {
              "id": "ob_09",
              "sync": true,
              "value": 5
             }
            },
            "systemjs_options": null
           },
           "nodeType": "Scope",
           "props": {},
           "type": "node"
          }
         ],
         "instanceArgs": {
          "namespace": "html",
          "tag": "div"
         },
         "nodeType": "DOM",
         "props": {
          "className": "field interact-widget"
         },
         "type": "node"
        },
        {
         "children": [
          {
           "children": [
            {
             "children": [
              {
               "children": [
                {
                 "children": [
                  "k"
                 ],
                 "instanceArgs": {
                  "namespace": "html",
                  "tag": "label"
                 },
                 "nodeType": "DOM",
                 "props": {
                  "className": "interact ",
                  "style": {
                   "padding": "5px 10px 0px 10px"
                  }
                 },
                 "type": "node"
                }
               ],
               "instanceArgs": {
                "namespace": "html",
                "tag": "div"
               },
               "nodeType": "DOM",
               "props": {
                "className": "interact-flex-row-left"
               },
               "type": "node"
              },
              {
               "children": [
                {
                 "children": [],
                 "instanceArgs": {
                  "namespace": "html",
                  "tag": "input"
                 },
                 "nodeType": "DOM",
                 "props": {
                  "attributes": {
                   "data-bind": "numericValue: index, valueUpdate: 'input', event: {change: function (){this.changes(this.changes()+1)}}",
                   "orient": "horizontal",
                   "type": "range"
                  },
                  "className": "slider slider is-fullwidth",
                  "max": 10,
                  "min": 2,
                  "step": 1,
                  "style": {}
                 },
                 "type": "node"
                }
               ],
               "instanceArgs": {
                "namespace": "html",
                "tag": "div"
               },
               "nodeType": "DOM",
               "props": {
                "className": "interact-flex-row-center"
               },
               "type": "node"
              },
              {
               "children": [
                {
                 "children": [],
                 "instanceArgs": {
                  "namespace": "html",
                  "tag": "p"
                 },
                 "nodeType": "DOM",
                 "props": {
                  "attributes": {
                   "data-bind": "text: formatted_val"
                  }
                 },
                 "type": "node"
                }
               ],
               "instanceArgs": {
                "namespace": "html",
                "tag": "div"
               },
               "nodeType": "DOM",
               "props": {
                "className": "interact-flex-row-right"
               },
               "type": "node"
              }
             ],
             "instanceArgs": {
              "namespace": "html",
              "tag": "div"
             },
             "nodeType": "DOM",
             "props": {
              "className": "interact-flex-row interact-widget"
             },
             "type": "node"
            }
           ],
           "instanceArgs": {
            "handlers": {
             "changes": [
              "(function (val){return (val!=this.model[\"changes\"]()) ? (this.valueFromJulia[\"changes\"]=true, this.model[\"changes\"](val)) : undefined})"
             ],
             "index": [
              "(function (val){return (val!=this.model[\"index\"]()) ? (this.valueFromJulia[\"index\"]=true, this.model[\"index\"](val)) : undefined})"
             ]
            },
            "id": "14314753658483964",
            "imports": {
             "data": [
              {
               "name": "knockout",
               "type": "js",
               "url": "/assetserver/c745b45446e53434188646e7ab5027b338525470-knockout.js"
              },
              {
               "name": "knockout_punches",
               "type": "js",
               "url": "/assetserver/186c395d602dc61d968c44ac922b2a694ade623d-knockout_punches.js"
              },
              {
               "name": null,
               "type": "js",
               "url": "/assetserver/5b835c77829057109e99e24346098048895f3608-all.js"
              },
              {
               "name": null,
               "type": "css",
               "url": "/assetserver/4ca2ed513a70ee4374f9fd6ada65c05b9cc8d873-style.css"
              },
              {
               "name": null,
               "type": "css",
               "url": "/assetserver/d9ab1827248233724dbb26aa645fddd368c2e0ca-bulma_confined.min.css"
              }
             ],
             "type": "async_block"
            },
            "mount_callbacks": [
             "function () {\n    var handler = (function (ko, koPunches) {\n    ko.punches.enableAll();\n    ko.bindingHandlers.numericValue = {\n        init: function(element, valueAccessor, allBindings, data, context) {\n            var stringified = ko.observable(ko.unwrap(valueAccessor()));\n            stringified.subscribe(function(value) {\n                var val = parseFloat(value);\n                if (!isNaN(val)) {\n                    valueAccessor()(val);\n                }\n            });\n            valueAccessor().subscribe(function(value) {\n                var str = JSON.stringify(value);\n                if ((str == \"0\") && ([\"-0\", \"-0.\"].indexOf(stringified()) >= 0))\n                     return;\n                 if ([\"null\", \"\"].indexOf(str) >= 0)\n                     return;\n                stringified(str);\n            });\n            ko.applyBindingsToNode(\n                element,\n                {\n                    value: stringified,\n                    valueUpdate: allBindings.get('valueUpdate'),\n                },\n                context,\n            );\n        }\n    };\n    var json_data = {\"formatted_vals\":[\"2\",\"3\",\"4\",\"5\",\"6\",\"7\",\"8\",\"9\",\"10\"],\"changes\":WebIO.getval({\"name\":\"changes\",\"scope\":\"14314753658483964\",\"id\":\"ob_12\",\"type\":\"observable\"}),\"index\":WebIO.getval({\"name\":\"index\",\"scope\":\"14314753658483964\",\"id\":\"ob_11\",\"type\":\"observable\"})};\n    var self = this;\n    function AppViewModel() {\n        for (var key in json_data) {\n            var el = json_data[key];\n            this[key] = Array.isArray(el) ? ko.observableArray(el) : ko.observable(el);\n        }\n        \n        [this[\"formatted_val\"]=ko.computed(    function(){\n        return this.formatted_vals()[parseInt(this.index())-(2)];\n    }\n,this)]\n        [this[\"changes\"].subscribe((function (val){!(this.valueFromJulia[\"changes\"]) ? (WebIO.setval({\"name\":\"changes\",\"scope\":\"14314753658483964\",\"id\":\"ob_12\",\"type\":\"observable\"},val)) : undefined; return this.valueFromJulia[\"changes\"]=false}),self),this[\"index\"].subscribe((function (val){!(this.valueFromJulia[\"index\"]) ? (WebIO.setval({\"name\":\"index\",\"scope\":\"14314753658483964\",\"id\":\"ob_11\",\"type\":\"observable\"},val)) : undefined; return this.valueFromJulia[\"index\"]=false}),self)]\n        \n    }\n    self.model = new AppViewModel();\n    self.valueFromJulia = {};\n    for (var key in json_data) {\n        self.valueFromJulia[key] = false;\n    }\n    ko.applyBindings(self.model, self.dom);\n}\n);\n    (WebIO.importBlock({\"data\":[{\"name\":\"knockout\",\"type\":\"js\",\"url\":\"/assetserver/c745b45446e53434188646e7ab5027b338525470-knockout.js\"},{\"name\":\"knockout_punches\",\"type\":\"js\",\"url\":\"/assetserver/186c395d602dc61d968c44ac922b2a694ade623d-knockout_punches.js\"}],\"type\":\"async_block\"})).then((imports) => handler.apply(this, imports));\n}\n"
            ],
            "observables": {
             "changes": {
              "id": "ob_12",
              "sync": false,
              "value": 0
             },
             "index": {
              "id": "ob_11",
              "sync": true,
              "value": 6
             }
            },
            "systemjs_options": null
           },
           "nodeType": "Scope",
           "props": {},
           "type": "node"
          }
         ],
         "instanceArgs": {
          "namespace": "html",
          "tag": "div"
         },
         "nodeType": "DOM",
         "props": {
          "className": "field interact-widget"
         },
         "type": "node"
        },
        {
         "children": [
          {
           "children": [],
           "instanceArgs": {
            "id": "ob_18",
            "name": "obs-node"
           },
           "nodeType": "ObservableNode",
           "props": {},
           "type": "node"
          }
         ],
         "instanceArgs": {
          "handlers": {},
          "id": "12984616057339193103",
          "imports": {
           "data": [],
           "type": "async_block"
          },
          "mount_callbacks": [],
          "observables": {
           "obs-node": {
            "id": "ob_18",
            "sync": false,
            "value": {
             "children": [
              {
               "children": [],
               "instanceArgs": {
                "namespace": "html",
                "tag": "div"
               },
               "nodeType": "DOM",
               "props": {
                "setInnerHtml": "<?xml version=\"1.0\" encoding=\"utf-8\"?>\n<svg xmlns=\"http://www.w3.org/2000/svg\" xmlns:xlink=\"http://www.w3.org/1999/xlink\" width=\"700\" height=\"200\" viewBox=\"0 0 2800 800\">\n<defs>\n  <clipPath id=\"clip4900\">\n    <rect x=\"0\" y=\"0\" width=\"2800\" height=\"800\"/>\n  </clipPath>\n</defs>\n<path clip-path=\"url(#clip4900)\" d=\"\nM0 800 L2800 800 L2800 0 L0 0  Z\n  \" fill=\"#ffffff\" fill-rule=\"evenodd\" fill-opacity=\"1\"/>\n<defs>\n  <clipPath id=\"clip4901\">\n    <rect x=\"560\" y=\"0\" width=\"1961\" height=\"800\"/>\n  </clipPath>\n</defs>\n<path clip-path=\"url(#clip4900)\" d=\"\nM220.613 690.317 L2752.76 690.317 L2752.76 88.0481 L220.613 88.0481  Z\n  \" fill=\"#ffffff\" fill-rule=\"evenodd\" fill-opacity=\"1\"/>\n<defs>\n  <clipPath id=\"clip4902\">\n    <rect x=\"220\" y=\"88\" width=\"2533\" height=\"603\"/>\n  </clipPath>\n</defs>\n<polyline clip-path=\"url(#clip4900)\" style=\"stroke:#000000; stroke-width:4; stroke-opacity:1; fill:none\" points=\"\n  220.613,690.317 2752.76,690.317 \n  \"/>\n<polyline clip-path=\"url(#clip4900)\" style=\"stroke:#000000; stroke-width:4; stroke-opacity:1; fill:none\" points=\"\n  220.613,690.317 220.613,88.0481 \n  \"/>\n<polyline clip-path=\"url(#clip4900)\" style=\"stroke:#000000; stroke-width:4; stroke-opacity:1; fill:none\" points=\"\n  292.278,690.317 292.278,683.09 \n  \"/>\n<polyline clip-path=\"url(#clip4900)\" style=\"stroke:#000000; stroke-width:4; stroke-opacity:1; fill:none\" points=\"\n  889.481,690.317 889.481,683.09 \n  \"/>\n<polyline clip-path=\"url(#clip4900)\" style=\"stroke:#000000; stroke-width:4; stroke-opacity:1; fill:none\" points=\"\n  1486.68,690.317 1486.68,683.09 \n  \"/>\n<polyline clip-path=\"url(#clip4900)\" style=\"stroke:#000000; stroke-width:4; stroke-opacity:1; fill:none\" points=\"\n  2083.89,690.317 2083.89,683.09 \n  \"/>\n<polyline clip-path=\"url(#clip4900)\" style=\"stroke:#000000; stroke-width:4; stroke-opacity:1; fill:none\" points=\"\n  2681.09,690.317 2681.09,683.09 \n  \"/>\n<polyline clip-path=\"url(#clip4900)\" style=\"stroke:#000000; stroke-width:4; stroke-opacity:1; fill:none\" points=\"\n  220.613,625.989 250.999,625.989 \n  \"/>\n<polyline clip-path=\"url(#clip4900)\" style=\"stroke:#000000; stroke-width:4; stroke-opacity:1; fill:none\" points=\"\n  220.613,507.564 250.999,507.564 \n  \"/>\n<polyline clip-path=\"url(#clip4900)\" style=\"stroke:#000000; stroke-width:4; stroke-opacity:1; fill:none\" points=\"\n  220.613,389.139 250.999,389.139 \n  \"/>\n<polyline clip-path=\"url(#clip4900)\" style=\"stroke:#000000; stroke-width:4; stroke-opacity:1; fill:none\" points=\"\n  220.613,270.714 250.999,270.714 \n  \"/>\n<polyline clip-path=\"url(#clip4900)\" style=\"stroke:#000000; stroke-width:4; stroke-opacity:1; fill:none\" points=\"\n  220.613,152.289 250.999,152.289 \n  \"/>\n<g clip-path=\"url(#clip4900)\">\n<text style=\"fill:#000000; fill-opacity:1; font-family:Arial,Helvetica Neue,Helvetica,sans-serif; font-size:48px; text-anchor:middle;\" transform=\"rotate(0, 292.278, 746.317)\" x=\"292.278\" y=\"746.317\">0.0</text>\n</g>\n<g clip-path=\"url(#clip4900)\">\n<text style=\"fill:#000000; fill-opacity:1; font-family:Arial,Helvetica Neue,Helvetica,sans-serif; font-size:48px; text-anchor:middle;\" transform=\"rotate(0, 889.481, 746.317)\" x=\"889.481\" y=\"746.317\">2.5</text>\n</g>\n<g clip-path=\"url(#clip4900)\">\n<text style=\"fill:#000000; fill-opacity:1; font-family:Arial,Helvetica Neue,Helvetica,sans-serif; font-size:48px; text-anchor:middle;\" transform=\"rotate(0, 1486.68, 746.317)\" x=\"1486.68\" y=\"746.317\">5.0</text>\n</g>\n<g clip-path=\"url(#clip4900)\">\n<text style=\"fill:#000000; fill-opacity:1; font-family:Arial,Helvetica Neue,Helvetica,sans-serif; font-size:48px; text-anchor:middle;\" transform=\"rotate(0, 2083.89, 746.317)\" x=\"2083.89\" y=\"746.317\">7.5</text>\n</g>\n<g clip-path=\"url(#clip4900)\">\n<text style=\"fill:#000000; fill-opacity:1; font-family:Arial,Helvetica Neue,Helvetica,sans-serif; font-size:48px; text-anchor:middle;\" transform=\"rotate(0, 2681.09, 746.317)\" x=\"2681.09\" y=\"746.317\">10.0</text>\n</g>\n<g clip-path=\"url(#clip4900)\">\n<text style=\"fill:#000000; fill-opacity:1; font-family:Arial,Helvetica Neue,Helvetica,sans-serif; font-size:48px; text-anchor:end;\" transform=\"rotate(0, 192.613, 643.489)\" x=\"192.613\" y=\"643.489\">-5.0</text>\n</g>\n<g clip-path=\"url(#clip4900)\">\n<text style=\"fill:#000000; fill-opacity:1; font-family:Arial,Helvetica Neue,Helvetica,sans-serif; font-size:48px; text-anchor:end;\" transform=\"rotate(0, 192.613, 525.064)\" x=\"192.613\" y=\"525.064\">-2.5</text>\n</g>\n<g clip-path=\"url(#clip4900)\">\n<text style=\"fill:#000000; fill-opacity:1; font-family:Arial,Helvetica Neue,Helvetica,sans-serif; font-size:48px; text-anchor:end;\" transform=\"rotate(0, 192.613, 406.639)\" x=\"192.613\" y=\"406.639\">0.0</text>\n</g>\n<g clip-path=\"url(#clip4900)\">\n<text style=\"fill:#000000; fill-opacity:1; font-family:Arial,Helvetica Neue,Helvetica,sans-serif; font-size:48px; text-anchor:end;\" transform=\"rotate(0, 192.613, 288.214)\" x=\"192.613\" y=\"288.214\">2.5</text>\n</g>\n<g clip-path=\"url(#clip4900)\">\n<text style=\"fill:#000000; fill-opacity:1; font-family:Arial,Helvetica Neue,Helvetica,sans-serif; font-size:48px; text-anchor:end;\" transform=\"rotate(0, 192.613, 169.789)\" x=\"192.613\" y=\"169.789\">5.0</text>\n</g>\n<g clip-path=\"url(#clip4900)\">\n<text style=\"fill:#000000; fill-opacity:1; font-family:Arial,Helvetica Neue,Helvetica,sans-serif; font-size:84px; text-anchor:start;\" transform=\"rotate(0, 1225.31, 74.9952)\" x=\"1225.31\" y=\"74.9952\">Shift to 0.5 2</text>\n</g>\n<g clip-path=\"url(#clip4900)\">\n<text style=\"fill:#000000; fill-opacity:1; font-family:Symbol; font-size:91px; text-anchor:start;\" transform=\"rotate(0, 1698.28, 74.9952)\" x=\"1698.28\" y=\"74.9952\">π</text>\n</g>\n<g clip-path=\"url(#clip4900)\">\n<image width=\"34\" height=\"30\" xlink:href=\"data:image/png;base64,\niVBORw0KGgoAAAANSUhEUgAAACIAAAAeCAYAAABJ/8wUAAACUElEQVRYhb1X7Y3jIBCduwomLZAO\nUEqgBNICJVADJVgpwSVYKcHbgdMCLbz7sRoEmNjY2T2kkWw8M37MBzwIAPXIMAwwxkApBSICM8Na\ni2masGU3jiOMMWBmEBGUUk27LgDiRGsN5xxCCDDGgIhARDDGIMZYOI4xwlqb7Lz3CCHAOVf4E7tN\nEM659KN5nlcrH8cxgVFKFWCUUmDmZsRCCMlOa70NRECEEDZDn0fGWot8rgVea530RWKMbeeCeA9E\nvToiwtYCal2RZVnWjmOMxer2JE+PCDM3bfPo5QKA/lI1nHNERPR4POpPzRFjXM2Jj3oopVZzIYTv\nhxzxNE0gInjvu6IBgLz3zVC3dPNOUkphGIakVyiKUt2KvcUqP+i1zaV4YWYYYw45kj2BsmL9GIi1\nttlymw6qtIzj+DmQozLPc3NPOONr1TVHxvP5LN6ZmS6Xy58zvn4UiDHmvLNPUkNVWvJ2/G810qqP\nd/vHr9ZIqz6u1+up+iD6oEZqILfb7ayrnwXyUaGeBfL19YV67giQ1+uF+/1e+jhTWC1eccReOEu+\n+Z0CUh90Qvd6hZlXNulhmiYIjctJbc/+ceSgEyJVn0nFx1zeMbSWbg+l3IpGAiJ3lZ5wt8hv744q\nJKp1wieO2hNuiYYQKJEeRifs710amzmv7yjAN81j5sTAcoq4x8oExBbpKtpJENcg5nkGM4OZi/Mk\n755WnSzLkqK3x/zSgxgwc7pWeu93OylPk1wtvffYA/kWiKzcWltctLXWu8U4zzOccwm0cN8QQjdj\n+wfvqdU61gtR5QAAAABJRU5ErkJggg==\n\" transform=\"translate(1470, 771)\"/>\n</g>\n<g clip-path=\"url(#clip4900)\">\n<image width=\"66\" height=\"117\" xlink:href=\"data:image/png;base64,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\n7uUTTrMswyRJIM9zWK/X8P393WqR/gMmoVLRdgy+SgAAAABJRU5ErkJggg==\n\" transform=\"translate(2, 331)\"/>\n</g>\n<polyline clip-path=\"url(#clip4902)\" style=\"stroke:#009af9; stroke-width:4; stroke-opacity:1; fill:none\" points=\"\n  292.278,389.139 316.407,417.799 340.537,446.167 364.666,473.954 388.795,500.876 412.925,526.659 437.054,551.04 461.184,573.771 485.313,594.619 509.443,613.373 \n  533.572,629.841 557.701,643.855 581.831,655.272 605.96,663.976 630.09,669.879 654.219,672.919 678.349,673.067 702.478,670.32 726.607,664.706 750.737,656.284 \n  774.866,645.138 798.996,631.382 823.125,615.157 847.255,596.627 871.384,575.983 895.513,553.433 919.643,529.209 943.772,503.557 967.902,476.738 992.031,449.027 \n  1016.16,420.704 1040.29,392.06 1064.42,363.387 1088.55,334.976 1112.68,307.117 1136.81,280.094 1160.94,254.182 1185.07,229.647 1209.2,206.738 1233.33,185.688 \n  1257.45,166.712 1281.58,150.003 1305.71,135.733 1329.84,124.045 1353.97,115.06 1378.1,108.87 1402.23,105.536 1426.36,105.093 1450.49,107.547 1474.62,112.871 \n  1498.75,121.011 1522.88,131.884 1547.01,145.381 1571.14,161.362 1595.27,179.665 1619.4,200.104 1643.53,222.469 1667.66,246.534 1691.78,272.053 1715.91,298.765 \n  1740.04,326.398 1764.17,354.671 1788.3,383.296 1812.43,411.98 1836.56,440.431 1860.69,468.36 1884.82,495.48 1908.95,521.517 1933.08,546.204 1957.21,569.29 \n  1981.34,590.539 2005.47,609.736 2029.6,626.683 2053.73,641.209 2077.86,653.165 2101.99,662.429 2126.11,668.908 2150.24,672.534 2174.37,673.272 2198.5,671.113 \n  2222.63,666.079 2246.76,658.222 2270.89,647.622 2295.02,634.387 2319.15,618.651 2343.28,600.576 2367.41,580.346 2391.54,558.166 2415.67,534.263 2439.8,508.881 \n  2463.93,482.278 2488.06,454.726 2512.19,426.504 2536.31,397.902 2560.44,369.211 2584.57,340.723 2608.7,312.728 2632.83,285.512 2656.96,259.353 2681.09,234.517 \n  \n  \"/>\n</svg>\n"
               },
               "type": "node"
              }
             ],
             "instanceArgs": {
              "namespace": "html",
              "tag": "div"
             },
             "nodeType": "DOM",
             "props": {
              "className": "interact-flex-row interact-widget"
             },
             "type": "node"
            }
           }
          },
          "systemjs_options": null
         },
         "nodeType": "Scope",
         "props": {},
         "type": "node"
        }
       ],
       "instanceArgs": {
        "namespace": "html",
        "tag": "div"
       },
       "nodeType": "DOM",
       "props": {},
       "type": "node"
      },
      "text/html": [
       "<div\n",
       "    class=\"webio-mountpoint\"\n",
       "    data-webio-mountpoint=\"7746892404137802035\"\n",
       ">\n",
       "    <script>\n",
       "    if (window.require && require.defined && require.defined(\"nbextensions/webio-jupyter-notebook\")) {\n",
       "        console.log(\"Jupyter WebIO extension detected, not mounting.\");\n",
       "    } else if (window.WebIO) {\n",
       "        WebIO.mount(\n",
       "            document.querySelector('[data-webio-mountpoint=\"7746892404137802035\"]'),\n",
       "            {\"props\":{},\"nodeType\":\"DOM\",\"type\":\"node\",\"instanceArgs\":{\"namespace\":\"html\",\"tag\":\"div\"},\"children\":[{\"props\":{\"className\":\"field interact-widget\"},\"nodeType\":\"DOM\",\"type\":\"node\",\"instanceArgs\":{\"namespace\":\"html\",\"tag\":\"div\"},\"children\":[{\"props\":{},\"nodeType\":\"Scope\",\"type\":\"node\",\"instanceArgs\":{\"imports\":{\"data\":[{\"name\":\"knockout\",\"type\":\"js\",\"url\":\"\\/assetserver\\/c745b45446e53434188646e7ab5027b338525470-knockout.js\"},{\"name\":\"knockout_punches\",\"type\":\"js\",\"url\":\"\\/assetserver\\/186c395d602dc61d968c44ac922b2a694ade623d-knockout_punches.js\"},{\"name\":null,\"type\":\"js\",\"url\":\"\\/assetserver\\/5b835c77829057109e99e24346098048895f3608-all.js\"},{\"name\":null,\"type\":\"css\",\"url\":\"\\/assetserver\\/4ca2ed513a70ee4374f9fd6ada65c05b9cc8d873-style.css\"},{\"name\":null,\"type\":\"css\",\"url\":\"\\/assetserver\\/d9ab1827248233724dbb26aa645fddd368c2e0ca-bulma_confined.min.css\"}],\"type\":\"async_block\"},\"id\":\"9146225803357748877\",\"handlers\":{\"changes\":[\"(function (val){return (val!=this.model[\\\"changes\\\"]()) ? (this.valueFromJulia[\\\"changes\\\"]=true, this.model[\\\"changes\\\"](val)) : undefined})\"],\"index\":[\"(function (val){return (val!=this.model[\\\"index\\\"]()) ? (this.valueFromJulia[\\\"index\\\"]=true, this.model[\\\"index\\\"](val)) : undefined})\"]},\"systemjs_options\":null,\"mount_callbacks\":[\"function () {\\n    var handler = (function (ko, koPunches) {\\n    ko.punches.enableAll();\\n    ko.bindingHandlers.numericValue = {\\n        init: function(element, valueAccessor, allBindings, data, context) {\\n            var stringified = ko.observable(ko.unwrap(valueAccessor()));\\n            stringified.subscribe(function(value) {\\n                var val = parseFloat(value);\\n                if (!isNaN(val)) {\\n                    valueAccessor()(val);\\n                }\\n            });\\n            valueAccessor().subscribe(function(value) {\\n                var str = JSON.stringify(value);\\n                if ((str == \\\"0\\\") && ([\\\"-0\\\", \\\"-0.\\\"].indexOf(stringified()) >= 0))\\n                     return;\\n                 if ([\\\"null\\\", \\\"\\\"].indexOf(str) >= 0)\\n                     return;\\n                stringified(str);\\n            });\\n            ko.applyBindingsToNode(\\n                element,\\n                {\\n                    value: stringified,\\n                    valueUpdate: allBindings.get('valueUpdate'),\\n                },\\n                context,\\n            );\\n        }\\n    };\\n    var json_data = {\\\"formatted_vals\\\":[\\\"0\\\",\\\"1\\\",\\\"2\\\",\\\"3\\\",\\\"4\\\",\\\"5\\\",\\\"6\\\",\\\"7\\\",\\\"8\\\",\\\"9\\\",\\\"10\\\"],\\\"changes\\\":WebIO.getval({\\\"name\\\":\\\"changes\\\",\\\"scope\\\":\\\"9146225803357748877\\\",\\\"id\\\":\\\"ob_10\\\",\\\"type\\\":\\\"observable\\\"}),\\\"index\\\":WebIO.getval({\\\"name\\\":\\\"index\\\",\\\"scope\\\":\\\"9146225803357748877\\\",\\\"id\\\":\\\"ob_09\\\",\\\"type\\\":\\\"observable\\\"})};\\n    var self = this;\\n    function AppViewModel() {\\n        for (var key in json_data) {\\n            var el = json_data[key];\\n            this[key] = Array.isArray(el) ? ko.observableArray(el) : ko.observable(el);\\n        }\\n        \\n        [this[\\\"formatted_val\\\"]=ko.computed(    function(){\\n        return this.formatted_vals()[parseInt(this.index())-(0)];\\n    }\\n,this)]\\n        [this[\\\"changes\\\"].subscribe((function (val){!(this.valueFromJulia[\\\"changes\\\"]) ? (WebIO.setval({\\\"name\\\":\\\"changes\\\",\\\"scope\\\":\\\"9146225803357748877\\\",\\\"id\\\":\\\"ob_10\\\",\\\"type\\\":\\\"observable\\\"},val)) : undefined; return this.valueFromJulia[\\\"changes\\\"]=false}),self),this[\\\"index\\\"].subscribe((function (val){!(this.valueFromJulia[\\\"index\\\"]) ? (WebIO.setval({\\\"name\\\":\\\"index\\\",\\\"scope\\\":\\\"9146225803357748877\\\",\\\"id\\\":\\\"ob_09\\\",\\\"type\\\":\\\"observable\\\"},val)) : undefined; return this.valueFromJulia[\\\"index\\\"]=false}),self)]\\n        \\n    }\\n    self.model = new AppViewModel();\\n    self.valueFromJulia = {};\\n    for (var key in json_data) {\\n        self.valueFromJulia[key] = false;\\n    }\\n    ko.applyBindings(self.model, self.dom);\\n}\\n);\\n    (WebIO.importBlock({\\\"data\\\":[{\\\"name\\\":\\\"knockout\\\",\\\"type\\\":\\\"js\\\",\\\"url\\\":\\\"\\/assetserver\\/c745b45446e53434188646e7ab5027b338525470-knockout.js\\\"},{\\\"name\\\":\\\"knockout_punches\\\",\\\"type\\\":\\\"js\\\",\\\"url\\\":\\\"\\/assetserver\\/186c395d602dc61d968c44ac922b2a694ade623d-knockout_punches.js\\\"}],\\\"type\\\":\\\"async_block\\\"})).then((imports) => handler.apply(this, imports));\\n}\\n\"],\"observables\":{\"changes\":{\"sync\":false,\"id\":\"ob_10\",\"value\":0},\"index\":{\"sync\":true,\"id\":\"ob_09\",\"value\":5}}},\"children\":[{\"props\":{\"className\":\"interact-flex-row interact-widget\"},\"nodeType\":\"DOM\",\"type\":\"node\",\"instanceArgs\":{\"namespace\":\"html\",\"tag\":\"div\"},\"children\":[{\"props\":{\"className\":\"interact-flex-row-left\"},\"nodeType\":\"DOM\",\"type\":\"node\",\"instanceArgs\":{\"namespace\":\"html\",\"tag\":\"div\"},\"children\":[{\"props\":{\"className\":\"interact \",\"style\":{\"padding\":\"5px 10px 0px 10px\"}},\"nodeType\":\"DOM\",\"type\":\"node\",\"instanceArgs\":{\"namespace\":\"html\",\"tag\":\"label\"},\"children\":[\"j\"]}]},{\"props\":{\"className\":\"interact-flex-row-center\"},\"nodeType\":\"DOM\",\"type\":\"node\",\"instanceArgs\":{\"namespace\":\"html\",\"tag\":\"div\"},\"children\":[{\"props\":{\"max\":10,\"min\":0,\"attributes\":{\"type\":\"range\",\"data-bind\":\"numericValue: index, valueUpdate: 'input', event: {change: function (){this.changes(this.changes()+1)}}\",\"orient\":\"horizontal\"},\"step\":1,\"className\":\"slider slider is-fullwidth\",\"style\":{}},\"nodeType\":\"DOM\",\"type\":\"node\",\"instanceArgs\":{\"namespace\":\"html\",\"tag\":\"input\"},\"children\":[]}]},{\"props\":{\"className\":\"interact-flex-row-right\"},\"nodeType\":\"DOM\",\"type\":\"node\",\"instanceArgs\":{\"namespace\":\"html\",\"tag\":\"div\"},\"children\":[{\"props\":{\"attributes\":{\"data-bind\":\"text: formatted_val\"}},\"nodeType\":\"DOM\",\"type\":\"node\",\"instanceArgs\":{\"namespace\":\"html\",\"tag\":\"p\"},\"children\":[]}]}]}]}]},{\"props\":{\"className\":\"field interact-widget\"},\"nodeType\":\"DOM\",\"type\":\"node\",\"instanceArgs\":{\"namespace\":\"html\",\"tag\":\"div\"},\"children\":[{\"props\":{},\"nodeType\":\"Scope\",\"type\":\"node\",\"instanceArgs\":{\"imports\":{\"data\":[{\"name\":\"knockout\",\"type\":\"js\",\"url\":\"\\/assetserver\\/c745b45446e53434188646e7ab5027b338525470-knockout.js\"},{\"name\":\"knockout_punches\",\"type\":\"js\",\"url\":\"\\/assetserver\\/186c395d602dc61d968c44ac922b2a694ade623d-knockout_punches.js\"},{\"name\":null,\"type\":\"js\",\"url\":\"\\/assetserver\\/5b835c77829057109e99e24346098048895f3608-all.js\"},{\"name\":null,\"type\":\"css\",\"url\":\"\\/assetserver\\/4ca2ed513a70ee4374f9fd6ada65c05b9cc8d873-style.css\"},{\"name\":null,\"type\":\"css\",\"url\":\"\\/assetserver\\/d9ab1827248233724dbb26aa645fddd368c2e0ca-bulma_confined.min.css\"}],\"type\":\"async_block\"},\"id\":\"14314753658483964\",\"handlers\":{\"changes\":[\"(function (val){return (val!=this.model[\\\"changes\\\"]()) ? (this.valueFromJulia[\\\"changes\\\"]=true, this.model[\\\"changes\\\"](val)) : undefined})\"],\"index\":[\"(function (val){return (val!=this.model[\\\"index\\\"]()) ? (this.valueFromJulia[\\\"index\\\"]=true, this.model[\\\"index\\\"](val)) : undefined})\"]},\"systemjs_options\":null,\"mount_callbacks\":[\"function () {\\n    var handler = (function (ko, koPunches) {\\n    ko.punches.enableAll();\\n    ko.bindingHandlers.numericValue = {\\n        init: function(element, valueAccessor, allBindings, data, context) {\\n            var stringified = ko.observable(ko.unwrap(valueAccessor()));\\n            stringified.subscribe(function(value) {\\n                var val = parseFloat(value);\\n                if (!isNaN(val)) {\\n                    valueAccessor()(val);\\n                }\\n            });\\n            valueAccessor().subscribe(function(value) {\\n                var str = JSON.stringify(value);\\n                if ((str == \\\"0\\\") && ([\\\"-0\\\", \\\"-0.\\\"].indexOf(stringified()) >= 0))\\n                     return;\\n                 if ([\\\"null\\\", \\\"\\\"].indexOf(str) >= 0)\\n                     return;\\n                stringified(str);\\n            });\\n            ko.applyBindingsToNode(\\n                element,\\n                {\\n                    value: stringified,\\n                    valueUpdate: allBindings.get('valueUpdate'),\\n                },\\n                context,\\n            );\\n        }\\n    };\\n    var json_data = {\\\"formatted_vals\\\":[\\\"2\\\",\\\"3\\\",\\\"4\\\",\\\"5\\\",\\\"6\\\",\\\"7\\\",\\\"8\\\",\\\"9\\\",\\\"10\\\"],\\\"changes\\\":WebIO.getval({\\\"name\\\":\\\"changes\\\",\\\"scope\\\":\\\"14314753658483964\\\",\\\"id\\\":\\\"ob_12\\\",\\\"type\\\":\\\"observable\\\"}),\\\"index\\\":WebIO.getval({\\\"name\\\":\\\"index\\\",\\\"scope\\\":\\\"14314753658483964\\\",\\\"id\\\":\\\"ob_11\\\",\\\"type\\\":\\\"observable\\\"})};\\n    var self = this;\\n    function AppViewModel() {\\n        for (var key in json_data) {\\n            var el = json_data[key];\\n            this[key] = Array.isArray(el) ? ko.observableArray(el) : ko.observable(el);\\n        }\\n        \\n        [this[\\\"formatted_val\\\"]=ko.computed(    function(){\\n        return this.formatted_vals()[parseInt(this.index())-(2)];\\n    }\\n,this)]\\n        [this[\\\"changes\\\"].subscribe((function (val){!(this.valueFromJulia[\\\"changes\\\"]) ? (WebIO.setval({\\\"name\\\":\\\"changes\\\",\\\"scope\\\":\\\"14314753658483964\\\",\\\"id\\\":\\\"ob_12\\\",\\\"type\\\":\\\"observable\\\"},val)) : undefined; return this.valueFromJulia[\\\"changes\\\"]=false}),self),this[\\\"index\\\"].subscribe((function (val){!(this.valueFromJulia[\\\"index\\\"]) ? (WebIO.setval({\\\"name\\\":\\\"index\\\",\\\"scope\\\":\\\"14314753658483964\\\",\\\"id\\\":\\\"ob_11\\\",\\\"type\\\":\\\"observable\\\"},val)) : undefined; return this.valueFromJulia[\\\"index\\\"]=false}),self)]\\n        \\n    }\\n    self.model = new AppViewModel();\\n    self.valueFromJulia = {};\\n    for (var key in json_data) {\\n        self.valueFromJulia[key] = false;\\n    }\\n    ko.applyBindings(self.model, self.dom);\\n}\\n);\\n    (WebIO.importBlock({\\\"data\\\":[{\\\"name\\\":\\\"knockout\\\",\\\"type\\\":\\\"js\\\",\\\"url\\\":\\\"\\/assetserver\\/c745b45446e53434188646e7ab5027b338525470-knockout.js\\\"},{\\\"name\\\":\\\"knockout_punches\\\",\\\"type\\\":\\\"js\\\",\\\"url\\\":\\\"\\/assetserver\\/186c395d602dc61d968c44ac922b2a694ade623d-knockout_punches.js\\\"}],\\\"type\\\":\\\"async_block\\\"})).then((imports) => handler.apply(this, imports));\\n}\\n\"],\"observables\":{\"changes\":{\"sync\":false,\"id\":\"ob_12\",\"value\":0},\"index\":{\"sync\":true,\"id\":\"ob_11\",\"value\":6}}},\"children\":[{\"props\":{\"className\":\"interact-flex-row interact-widget\"},\"nodeType\":\"DOM\",\"type\":\"node\",\"instanceArgs\":{\"namespace\":\"html\",\"tag\":\"div\"},\"children\":[{\"props\":{\"className\":\"interact-flex-row-left\"},\"nodeType\":\"DOM\",\"type\":\"node\",\"instanceArgs\":{\"namespace\":\"html\",\"tag\":\"div\"},\"children\":[{\"props\":{\"className\":\"interact \",\"style\":{\"padding\":\"5px 10px 0px 10px\"}},\"nodeType\":\"DOM\",\"type\":\"node\",\"instanceArgs\":{\"namespace\":\"html\",\"tag\":\"label\"},\"children\":[\"k\"]}]},{\"props\":{\"className\":\"interact-flex-row-center\"},\"nodeType\":\"DOM\",\"type\":\"node\",\"instanceArgs\":{\"namespace\":\"html\",\"tag\":\"div\"},\"children\":[{\"props\":{\"max\":10,\"min\":2,\"attributes\":{\"type\":\"range\",\"data-bind\":\"numericValue: index, valueUpdate: 'input', event: {change: function (){this.changes(this.changes()+1)}}\",\"orient\":\"horizontal\"},\"step\":1,\"className\":\"slider slider is-fullwidth\",\"style\":{}},\"nodeType\":\"DOM\",\"type\":\"node\",\"instanceArgs\":{\"namespace\":\"html\",\"tag\":\"input\"},\"children\":[]}]},{\"props\":{\"className\":\"interact-flex-row-right\"},\"nodeType\":\"DOM\",\"type\":\"node\",\"instanceArgs\":{\"namespace\":\"html\",\"tag\":\"div\"},\"children\":[{\"props\":{\"attributes\":{\"data-bind\":\"text: formatted_val\"}},\"nodeType\":\"DOM\",\"type\":\"node\",\"instanceArgs\":{\"namespace\":\"html\",\"tag\":\"p\"},\"children\":[]}]}]}]}]},{\"props\":{},\"nodeType\":\"Scope\",\"type\":\"node\",\"instanceArgs\":{\"imports\":{\"data\":[],\"type\":\"async_block\"},\"id\":\"9371466487454257792\",\"handlers\":{},\"systemjs_options\":null,\"mount_callbacks\":[],\"observables\":{\"obs-node\":{\"sync\":false,\"id\":\"ob_16\",\"value\":{\"props\":{\"className\":\"interact-flex-row interact-widget\"},\"nodeType\":\"DOM\",\"type\":\"node\",\"instanceArgs\":{\"namespace\":\"html\",\"tag\":\"div\"},\"children\":[{\"props\":{\"setInnerHtml\":\"<?xml version=\\\"1.0\\\" encoding=\\\"utf-8\\\"?>\\n<svg xmlns=\\\"http:\\/\\/www.w3.org\\/2000\\/svg\\\" xmlns:xlink=\\\"http:\\/\\/www.w3.org\\/1999\\/xlink\\\" width=\\\"700\\\" height=\\\"200\\\" viewBox=\\\"0 0 2800 800\\\">\\n<defs>\\n  <clipPath id=\\\"clip4500\\\">\\n    <rect x=\\\"0\\\" y=\\\"0\\\" width=\\\"2800\\\" height=\\\"800\\\"\\/>\\n  <\\/clipPath>\\n<\\/defs>\\n<path clip-path=\\\"url(#clip4500)\\\" d=\\\"\\nM0 800 L2800 800 L2800 0 L0 0  Z\\n  \\\" fill=\\\"#ffffff\\\" fill-rule=\\\"evenodd\\\" fill-opacity=\\\"1\\\"\\/>\\n<defs>\\n  <clipPath id=\\\"clip4501\\\">\\n    <rect x=\\\"560\\\" y=\\\"0\\\" width=\\\"1961\\\" height=\\\"800\\\"\\/>\\n  <\\/clipPath>\\n<\\/defs>\\n<path clip-path=\\\"url(#clip4500)\\\" d=\\\"\\nM220.613 690.317 L2752.76 690.317 L2752.76 88.0481 L220.613 88.0481  Z\\n  \\\" fill=\\\"#ffffff\\\" fill-rule=\\\"evenodd\\\" fill-opacity=\\\"1\\\"\\/>\\n<defs>\\n  <clipPath id=\\\"clip4502\\\">\\n    <rect x=\\\"220\\\" y=\\\"88\\\" width=\\\"2533\\\" height=\\\"603\\\"\\/>\\n  <\\/clipPath>\\n<\\/defs>\\n<polyline clip-path=\\\"url(#clip4500)\\\" style=\\\"stroke:#000000; stroke-width:4; stroke-opacity:1; fill:none\\\" points=\\\"\\n  220.613,690.317 2752.76,690.317 \\n  \\\"\\/>\\n<polyline clip-path=\\\"url(#clip4500)\\\" style=\\\"stroke:#000000; stroke-width:4; stroke-opacity:1; fill:none\\\" points=\\\"\\n  220.613,690.317 220.613,88.0481 \\n  \\\"\\/>\\n<polyline clip-path=\\\"url(#clip4500)\\\" style=\\\"stroke:#000000; stroke-width:4; stroke-opacity:1; fill:none\\\" points=\\\"\\n  292.278,690.317 292.278,683.09 \\n  \\\"\\/>\\n<polyline clip-path=\\\"url(#clip4500)\\\" style=\\\"stroke:#000000; stroke-width:4; stroke-opacity:1; fill:none\\\" points=\\\"\\n  889.481,690.317 889.481,683.09 \\n  \\\"\\/>\\n<polyline clip-path=\\\"url(#clip4500)\\\" style=\\\"stroke:#000000; stroke-width:4; stroke-opacity:1; fill:none\\\" points=\\\"\\n  1486.68,690.317 1486.68,683.09 \\n  \\\"\\/>\\n<polyline clip-path=\\\"url(#clip4500)\\\" style=\\\"stroke:#000000; stroke-width:4; stroke-opacity:1; fill:none\\\" points=\\\"\\n  2083.89,690.317 2083.89,683.09 \\n  \\\"\\/>\\n<polyline clip-path=\\\"url(#clip4500)\\\" style=\\\"stroke:#000000; stroke-width:4; stroke-opacity:1; fill:none\\\" points=\\\"\\n  2681.09,690.317 2681.09,683.09 \\n  \\\"\\/>\\n<polyline clip-path=\\\"url(#clip4500)\\\" style=\\\"stroke:#000000; stroke-width:4; stroke-opacity:1; fill:none\\\" points=\\\"\\n  220.613,625.989 250.999,625.989 \\n  \\\"\\/>\\n<polyline clip-path=\\\"url(#clip4500)\\\" style=\\\"stroke:#000000; stroke-width:4; stroke-opacity:1; fill:none\\\" points=\\\"\\n  220.613,507.564 250.999,507.564 \\n  \\\"\\/>\\n<polyline clip-path=\\\"url(#clip4500)\\\" style=\\\"stroke:#000000; stroke-width:4; stroke-opacity:1; fill:none\\\" points=\\\"\\n  220.613,389.139 250.999,389.139 \\n  \\\"\\/>\\n<polyline clip-path=\\\"url(#clip4500)\\\" style=\\\"stroke:#000000; stroke-width:4; stroke-opacity:1; fill:none\\\" points=\\\"\\n  220.613,270.714 250.999,270.714 \\n  \\\"\\/>\\n<polyline clip-path=\\\"url(#clip4500)\\\" style=\\\"stroke:#000000; stroke-width:4; stroke-opacity:1; fill:none\\\" points=\\\"\\n  220.613,152.289 250.999,152.289 \\n  \\\"\\/>\\n<g clip-path=\\\"url(#clip4500)\\\">\\n<text style=\\\"fill:#000000; fill-opacity:1; font-family:Arial,Helvetica Neue,Helvetica,sans-serif; font-size:48px; text-anchor:middle;\\\" transform=\\\"rotate(0, 292.278, 746.317)\\\" x=\\\"292.278\\\" y=\\\"746.317\\\">0.0<\\/text>\\n<\\/g>\\n<g clip-path=\\\"url(#clip4500)\\\">\\n<text style=\\\"fill:#000000; fill-opacity:1; font-family:Arial,Helvetica Neue,Helvetica,sans-serif; font-size:48px; text-anchor:middle;\\\" transform=\\\"rotate(0, 889.481, 746.317)\\\" x=\\\"889.481\\\" y=\\\"746.317\\\">2.5<\\/text>\\n<\\/g>\\n<g clip-path=\\\"url(#clip4500)\\\">\\n<text style=\\\"fill:#000000; fill-opacity:1; font-family:Arial,Helvetica Neue,Helvetica,sans-serif; font-size:48px; text-anchor:middle;\\\" transform=\\\"rotate(0, 1486.68, 746.317)\\\" x=\\\"1486.68\\\" y=\\\"746.317\\\">5.0<\\/text>\\n<\\/g>\\n<g clip-path=\\\"url(#clip4500)\\\">\\n<text style=\\\"fill:#000000; fill-opacity:1; font-family:Arial,Helvetica Neue,Helvetica,sans-serif; font-size:48px; text-anchor:middle;\\\" transform=\\\"rotate(0, 2083.89, 746.317)\\\" x=\\\"2083.89\\\" y=\\\"746.317\\\">7.5<\\/text>\\n<\\/g>\\n<g clip-path=\\\"url(#clip4500)\\\">\\n<text style=\\\"fill:#000000; fill-opacity:1; font-family:Arial,Helvetica Neue,Helvetica,sans-serif; font-size:48px; text-anchor:middle;\\\" transform=\\\"rotate(0, 2681.09, 746.317)\\\" x=\\\"2681.09\\\" y=\\\"746.317\\\">10.0<\\/text>\\n<\\/g>\\n<g clip-path=\\\"url(#clip4500)\\\">\\n<text style=\\\"fill:#000000; fill-opacity:1; font-family:Arial,Helvetica Neue,Helvetica,sans-serif; font-size:48px; text-anchor:end;\\\" transform=\\\"rotate(0, 192.613, 643.489)\\\" x=\\\"192.613\\\" y=\\\"643.489\\\">-5.0<\\/text>\\n<\\/g>\\n<g clip-path=\\\"url(#clip4500)\\\">\\n<text style=\\\"fill:#000000; fill-opacity:1; font-family:Arial,Helvetica Neue,Helvetica,sans-serif; font-size:48px; text-anchor:end;\\\" transform=\\\"rotate(0, 192.613, 525.064)\\\" x=\\\"192.613\\\" y=\\\"525.064\\\">-2.5<\\/text>\\n<\\/g>\\n<g clip-path=\\\"url(#clip4500)\\\">\\n<text style=\\\"fill:#000000; fill-opacity:1; font-family:Arial,Helvetica Neue,Helvetica,sans-serif; font-size:48px; text-anchor:end;\\\" transform=\\\"rotate(0, 192.613, 406.639)\\\" x=\\\"192.613\\\" y=\\\"406.639\\\">0.0<\\/text>\\n<\\/g>\\n<g clip-path=\\\"url(#clip4500)\\\">\\n<text style=\\\"fill:#000000; fill-opacity:1; font-family:Arial,Helvetica Neue,Helvetica,sans-serif; font-size:48px; text-anchor:end;\\\" transform=\\\"rotate(0, 192.613, 288.214)\\\" x=\\\"192.613\\\" y=\\\"288.214\\\">2.5<\\/text>\\n<\\/g>\\n<g clip-path=\\\"url(#clip4500)\\\">\\n<text style=\\\"fill:#000000; fill-opacity:1; font-family:Arial,Helvetica Neue,Helvetica,sans-serif; font-size:48px; text-anchor:end;\\\" transform=\\\"rotate(0, 192.613, 169.789)\\\" x=\\\"192.613\\\" y=\\\"169.789\\\">5.0<\\/text>\\n<\\/g>\\n<g clip-path=\\\"url(#clip4500)\\\">\\n<text style=\\\"fill:#000000; fill-opacity:1; font-family:Arial,Helvetica Neue,Helvetica,sans-serif; font-size:84px; text-anchor:start;\\\" transform=\\\"rotate(0, 1225.31, 74.9952)\\\" x=\\\"1225.31\\\" y=\\\"74.9952\\\">Shift to 0.5 2<\\/text>\\n<\\/g>\\n<g clip-path=\\\"url(#clip4500)\\\">\\n<text style=\\\"fill:#000000; fill-opacity:1; font-family:Symbol; font-size:91px; text-anchor:start;\\\" transform=\\\"rotate(0, 1698.28, 74.9952)\\\" x=\\\"1698.28\\\" y=\\\"74.9952\\\">π<\\/text>\\n<\\/g>\\n<g clip-path=\\\"url(#clip4500)\\\">\\n<image width=\\\"34\\\" height=\\\"30\\\" xlink:href=\\\"data:image\\/png;base64,\\niVBORw0KGgoAAAANSUhEUgAAACIAAAAeCAYAAABJ\\/8wUAAACUElEQVRYhb1X7Y3jIBCduwomLZAO\\nUEqgBNICJVADJVgpwSVYKcHbgdMCLbz7sRoEmNjY2T2kkWw8M37MBzwIAPXIMAwwxkApBSICM8Na\\ni2masGU3jiOMMWBmEBGUUk27LgDiRGsN5xxCCDDGgIhARDDGIMZYOI4xwlqb7Lz3CCHAOVf4E7tN\\nEM659KN5nlcrH8cxgVFKFWCUUmDmZsRCCMlOa70NRECEEDZDn0fGWot8rgVea530RWKMbeeCeA9E\\nvToiwtYCal2RZVnWjmOMxer2JE+PCDM3bfPo5QKA\\/lI1nHNERPR4POpPzRFjXM2Jj3oopVZzIYTv\\nhxzxNE0gInjvu6IBgLz3zVC3dPNOUkphGIakVyiKUt2KvcUqP+i1zaV4YWYYYw45kj2BsmL9GIi1\\nttlymw6qtIzj+DmQozLPc3NPOONr1TVHxvP5LN6ZmS6Xy58zvn4UiDHmvLNPUkNVWvJ2\\/G810qqP\\nd\\/vHr9ZIqz6u1+up+iD6oEZqILfb7ayrnwXyUaGeBfL19YV67giQ1+uF+\\/1e+jhTWC1eccReOEu+\\n+Z0CUh90Qvd6hZlXNulhmiYIjctJbc\\/+ceSgEyJVn0nFx1zeMbSWbg+l3IpGAiJ3lZ5wt8hv744q\\nJKp1wieO2hNuiYYQKJEeRifs710amzmv7yjAN81j5sTAcoq4x8oExBbpKtpJENcg5nkGM4OZi\\/Mk\\n755WnSzLkqK3x\\/zSgxgwc7pWeu93OylPk1wtvffYA\\/kWiKzcWltctLXWu8U4zzOccwm0cN8QQjdj\\n+wfvqdU61gtR5QAAAABJRU5ErkJggg==\\n\\\" transform=\\\"translate(1470, 771)\\\"\\/>\\n<\\/g>\\n<g clip-path=\\\"url(#clip4500)\\\">\\n<image width=\\\"66\\\" height=\\\"117\\\" xlink:href=\\\"data:image\\/png;base64,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\\n7uUTTrMswyRJIM9zWK\\/X8P393WqR\\/gMmoVLRdgy+SgAAAABJRU5ErkJggg==\\n\\\" transform=\\\"translate(2, 331)\\\"\\/>\\n<\\/g>\\n<polyline clip-path=\\\"url(#clip4502)\\\" style=\\\"stroke:#009af9; stroke-width:4; stroke-opacity:1; fill:none\\\" points=\\\"\\n  292.278,389.139 316.407,417.799 340.537,446.167 364.666,473.954 388.795,500.876 412.925,526.659 437.054,551.04 461.184,573.771 485.313,594.619 509.443,613.373 \\n  533.572,629.841 557.701,643.855 581.831,655.272 605.96,663.976 630.09,669.879 654.219,672.919 678.349,673.067 702.478,670.32 726.607,664.706 750.737,656.284 \\n  774.866,645.138 798.996,631.382 823.125,615.157 847.255,596.627 871.384,575.983 895.513,553.433 919.643,529.209 943.772,503.557 967.902,476.738 992.031,449.027 \\n  1016.16,420.704 1040.29,392.06 1064.42,363.387 1088.55,334.976 1112.68,307.117 1136.81,280.094 1160.94,254.182 1185.07,229.647 1209.2,206.738 1233.33,185.688 \\n  1257.45,166.712 1281.58,150.003 1305.71,135.733 1329.84,124.045 1353.97,115.06 1378.1,108.87 1402.23,105.536 1426.36,105.093 1450.49,107.547 1474.62,112.871 \\n  1498.75,121.011 1522.88,131.884 1547.01,145.381 1571.14,161.362 1595.27,179.665 1619.4,200.104 1643.53,222.469 1667.66,246.534 1691.78,272.053 1715.91,298.765 \\n  1740.04,326.398 1764.17,354.671 1788.3,383.296 1812.43,411.98 1836.56,440.431 1860.69,468.36 1884.82,495.48 1908.95,521.517 1933.08,546.204 1957.21,569.29 \\n  1981.34,590.539 2005.47,609.736 2029.6,626.683 2053.73,641.209 2077.86,653.165 2101.99,662.429 2126.11,668.908 2150.24,672.534 2174.37,673.272 2198.5,671.113 \\n  2222.63,666.079 2246.76,658.222 2270.89,647.622 2295.02,634.387 2319.15,618.651 2343.28,600.576 2367.41,580.346 2391.54,558.166 2415.67,534.263 2439.8,508.881 \\n  2463.93,482.278 2488.06,454.726 2512.19,426.504 2536.31,397.902 2560.44,369.211 2584.57,340.723 2608.7,312.728 2632.83,285.512 2656.96,259.353 2681.09,234.517 \\n  \\n  \\\"\\/>\\n<\\/svg>\\n\"},\"nodeType\":\"DOM\",\"type\":\"node\",\"instanceArgs\":{\"namespace\":\"html\",\"tag\":\"div\"},\"children\":[]}]}}}},\"children\":[{\"props\":{},\"nodeType\":\"ObservableNode\",\"type\":\"node\",\"instanceArgs\":{\"id\":\"ob_16\",\"name\":\"obs-node\"},\"children\":[]}]}]},\n",
       "            window,\n",
       "        );\n",
       "    } else {\n",
       "        document\n",
       "            .querySelector('[data-webio-mountpoint=\"7746892404137802035\"]')\n",
       "            .innerHTML = (\n",
       "                '<div style=\"padding: 1em; background-color: #f8d6da; border: 1px solid #f5c6cb\">' +\n",
       "                '<p><strong>WebIO not detected.</strong></p>' +\n",
       "                '<p>Please read ' +\n",
       "                '<a href=\"https://juliagizmos.github.io/WebIO.jl/latest/troubleshooting/not-detected/\" target=\"_blank\">the troubleshooting guide</a> ' +\n",
       "                'for more information on how to resolve this issue.</p>' +\n",
       "                '<p><a href=\"https://juliagizmos.github.io/WebIO.jl/latest/troubleshooting/not-detected/\" target=\"_blank\">https://juliagizmos.github.io/WebIO.jl/latest/troubleshooting/not-detected/</a></p>' +\n",
       "                '</div>'\n",
       "            );\n",
       "    }\n",
       "    </script>\n",
       "</div>\n"
      ],
      "text/plain": [
       "Node{WebIO.DOM}(WebIO.DOM(:html, :div), Any[Node{WebIO.DOM}(WebIO.DOM(:html, :div), Any[Scope(Node{WebIO.DOM}(WebIO.DOM(:html, :div), Any[Node{WebIO.DOM}(WebIO.DOM(:html, :div), Any[Node{WebIO.DOM}(WebIO.DOM(:html, :label), Any[\"j\"], Dict{Symbol,Any}(:className => \"interact \",:style => Dict{Any,Any}(:padding => \"5px 10px 0px 10px\")))], Dict{Symbol,Any}(:className => \"interact-flex-row-left\")), Node{WebIO.DOM}(WebIO.DOM(:html, :div), Any[Node{WebIO.DOM}(WebIO.DOM(:html, :input), Any[], Dict{Symbol,Any}(:max => 10,:min => 0,:attributes => Dict{Any,Any}(:type => \"range\",Symbol(\"data-bind\") => \"numericValue: index, valueUpdate: 'input', event: {change: function (){this.changes(this.changes()+1)}}\",\"orient\" => \"horizontal\"),:step => 1,:className => \"slider slider is-fullwidth\",:style => Dict{Any,Any}()))], Dict{Symbol,Any}(:className => \"interact-flex-row-center\")), Node{WebIO.DOM}(WebIO.DOM(:html, :div), Any[Node{WebIO.DOM}(WebIO.DOM(:html, :p), Any[], Dict{Symbol,Any}(:attributes => Dict(\"data-bind\" => \"text: formatted_val\")))], Dict{Symbol,Any}(:className => \"interact-flex-row-right\"))], Dict{Symbol,Any}(:className => \"interact-flex-row interact-widget\")), Dict{String,Tuple{Observables.AbstractObservable,Union{Nothing, Bool}}}(\"changes\" => (Observable{Int64} with 1 listeners. Value:\n",
       "0, nothing),\"index\" => (Observable{Int64} with 2 listeners. Value:\n",
       "5, nothing)), Set(String[]), nothing, Asset[Asset(\"js\", \"knockout\", \"/home/365hacni/.julia/packages/Knockout/1sDlc/src/../assets/knockout.js\"), Asset(\"js\", \"knockout_punches\", \"/home/365hacni/.julia/packages/Knockout/1sDlc/src/../assets/knockout_punches.js\"), Asset(\"js\", nothing, \"/home/365hacni/.julia/packages/InteractBase/9mFwe/src/../assets/all.js\"), Asset(\"css\", nothing, \"/home/365hacni/.julia/packages/InteractBase/9mFwe/src/../assets/style.css\"), Asset(\"css\", nothing, \"/home/365hacni/.julia/packages/Interact/SbgIk/src/../assets/bulma_confined.min.css\")], Dict{Any,Any}(\"changes\" => Any[WebIO.JSString(\"(function (val){return (val!=this.model[\\\"changes\\\"]()) ? (this.valueFromJulia[\\\"changes\\\"]=true, this.model[\\\"changes\\\"](val)) : undefined})\")],\"index\" => Any[WebIO.JSString(\"(function (val){return (val!=this.model[\\\"index\\\"]()) ? (this.valueFromJulia[\\\"index\\\"]=true, this.model[\\\"index\\\"](val)) : undefined})\")]), WebIO.ConnectionPool(Channel{Any}(sz_max:32,sz_curr:0), Set(AbstractConnection[]), Base.GenericCondition{Base.AlwaysLockedST}(Base.InvasiveLinkedList{Task}(Task (runnable) @0x00007f7d24a404f0, Task (runnable) @0x00007f7d24a404f0), Base.AlwaysLockedST(1))), WebIO.JSString[WebIO.JSString(\"function () {\\n    var handler = (function (ko, koPunches) {\\n    ko.punches.enableAll();\\n    ko.bindingHandlers.numericValue = {\\n        init: function(element, valueAccessor, allBindings, data, context) {\\n            var stringified = ko.observable(ko.unwrap(valueAccessor()));\\n            stringified.subscribe(function(value) {\\n                var val = parseFloat(value);\\n                if (!isNaN(val)) {\\n                    valueAccessor()(val);\\n                }\\n            });\\n            valueAccessor().subscribe(function(value) {\\n                var str = JSON.stringify(value);\\n                if ((str == \\\"0\\\") && ([\\\"-0\\\", \\\"-0.\\\"].indexOf(stringified()) >= 0))\\n                     return;\\n                 if ([\\\"null\\\", \\\"\\\"].indexOf(str) >= 0)\\n                     return;\\n                stringified(str);\\n            });\\n            ko.applyBindingsToNode(\\n                element,\\n                {\\n                    value: stringified,\\n                    valueUpdate: allBindings.get('valueUpdate'),\\n                },\\n                context,\\n            );\\n        }\\n    };\\n    var json_data = {\\\"formatted_vals\\\":[\\\"0\\\",\\\"1\\\",\\\"2\\\",\\\"3\\\",\\\"4\\\",\\\"5\\\",\\\"6\\\",\\\"7\\\",\\\"8\\\",\\\"9\\\",\\\"10\\\"],\\\"changes\\\":WebIO.getval({\\\"name\\\":\\\"changes\\\",\\\"scope\\\":\\\"9146225803357748877\\\",\\\"id\\\":\\\"ob_10\\\",\\\"type\\\":\\\"observable\\\"}),\\\"index\\\":WebIO.getval({\\\"name\\\":\\\"index\\\",\\\"scope\\\":\\\"9146225803357748877\\\",\\\"id\\\":\\\"ob_09\\\",\\\"type\\\":\\\"observable\\\"})};\\n    var self = this;\\n    function AppViewModel() {\\n        for (var key in json_data) {\\n            var el = json_data[key];\\n            this[key] = Array.isArray(el) ? ko.observableArray(el) : ko.observable(el);\\n        }\\n        \\n        [this[\\\"formatted_val\\\"]=ko.computed(    function(){\\n        return this.formatted_vals()[parseInt(this.index())-(0)];\\n    }\\n,this)]\\n        [this[\\\"changes\\\"].subscribe((function (val){!(this.valueFromJulia[\\\"changes\\\"]) ? (WebIO.setval({\\\"name\\\":\\\"changes\\\",\\\"scope\\\":\\\"9146225803357748877\\\",\\\"id\\\":\\\"ob_10\\\",\\\"type\\\":\\\"observable\\\"},val)) : undefined; return this.valueFromJulia[\\\"changes\\\"]=false}),self),this[\\\"index\\\"].subscribe((function (val){!(this.valueFromJulia[\\\"index\\\"]) ? (WebIO.setval({\\\"name\\\":\\\"index\\\",\\\"scope\\\":\\\"9146225803357748877\\\",\\\"id\\\":\\\"ob_09\\\",\\\"type\\\":\\\"observable\\\"},val)) : undefined; return this.valueFromJulia[\\\"index\\\"]=false}),self)]\\n        \\n    }\\n    self.model = new AppViewModel();\\n    self.valueFromJulia = {};\\n    for (var key in json_data) {\\n        self.valueFromJulia[key] = false;\\n    }\\n    ko.applyBindings(self.model, self.dom);\\n}\\n);\\n    (WebIO.importBlock({\\\"data\\\":[{\\\"name\\\":\\\"knockout\\\",\\\"type\\\":\\\"js\\\",\\\"url\\\":\\\"/assetserver/c745b45446e53434188646e7ab5027b338525470-knockout.js\\\"},{\\\"name\\\":\\\"knockout_punches\\\",\\\"type\\\":\\\"js\\\",\\\"url\\\":\\\"/assetserver/186c395d602dc61d968c44ac922b2a694ade623d-knockout_punches.js\\\"}],\\\"type\\\":\\\"async_block\\\"})).then((imports) => handler.apply(this, imports));\\n}\\n\")])], Dict{Symbol,Any}(:className => \"field interact-widget\")), Node{WebIO.DOM}(WebIO.DOM(:html, :div), Any[Scope(Node{WebIO.DOM}(WebIO.DOM(:html, :div), Any[Node{WebIO.DOM}(WebIO.DOM(:html, :div), Any[Node{WebIO.DOM}(WebIO.DOM(:html, :label), Any[\"k\"], Dict{Symbol,Any}(:className => \"interact \",:style => Dict{Any,Any}(:padding => \"5px 10px 0px 10px\")))], Dict{Symbol,Any}(:className => \"interact-flex-row-left\")), Node{WebIO.DOM}(WebIO.DOM(:html, :div), Any[Node{WebIO.DOM}(WebIO.DOM(:html, :input), Any[], Dict{Symbol,Any}(:max => 10,:min => 2,:attributes => Dict{Any,Any}(:type => \"range\",Symbol(\"data-bind\") => \"numericValue: index, valueUpdate: 'input', event: {change: function (){this.changes(this.changes()+1)}}\",\"orient\" => \"horizontal\"),:step => 1,:className => \"slider slider is-fullwidth\",:style => Dict{Any,Any}()))], Dict{Symbol,Any}(:className => \"interact-flex-row-center\")), Node{WebIO.DOM}(WebIO.DOM(:html, :div), Any[Node{WebIO.DOM}(WebIO.DOM(:html, :p), Any[], Dict{Symbol,Any}(:attributes => Dict(\"data-bind\" => \"text: formatted_val\")))], Dict{Symbol,Any}(:className => \"interact-flex-row-right\"))], Dict{Symbol,Any}(:className => \"interact-flex-row interact-widget\")), Dict{String,Tuple{Observables.AbstractObservable,Union{Nothing, Bool}}}(\"changes\" => (Observable{Int64} with 1 listeners. Value:\n",
       "0, nothing),\"index\" => (Observable{Int64} with 2 listeners. Value:\n",
       "6, nothing)), Set(String[]), nothing, Asset[Asset(\"js\", \"knockout\", \"/home/365hacni/.julia/packages/Knockout/1sDlc/src/../assets/knockout.js\"), Asset(\"js\", \"knockout_punches\", \"/home/365hacni/.julia/packages/Knockout/1sDlc/src/../assets/knockout_punches.js\"), Asset(\"js\", nothing, \"/home/365hacni/.julia/packages/InteractBase/9mFwe/src/../assets/all.js\"), Asset(\"css\", nothing, \"/home/365hacni/.julia/packages/InteractBase/9mFwe/src/../assets/style.css\"), Asset(\"css\", nothing, \"/home/365hacni/.julia/packages/Interact/SbgIk/src/../assets/bulma_confined.min.css\")], Dict{Any,Any}(\"changes\" => Any[WebIO.JSString(\"(function (val){return (val!=this.model[\\\"changes\\\"]()) ? (this.valueFromJulia[\\\"changes\\\"]=true, this.model[\\\"changes\\\"](val)) : undefined})\")],\"index\" => Any[WebIO.JSString(\"(function (val){return (val!=this.model[\\\"index\\\"]()) ? (this.valueFromJulia[\\\"index\\\"]=true, this.model[\\\"index\\\"](val)) : undefined})\")]), WebIO.ConnectionPool(Channel{Any}(sz_max:32,sz_curr:0), Set(AbstractConnection[]), Base.GenericCondition{Base.AlwaysLockedST}(Base.InvasiveLinkedList{Task}(Task (runnable) @0x00007f7d24a409d0, Task (runnable) @0x00007f7d24a409d0), Base.AlwaysLockedST(1))), WebIO.JSString[WebIO.JSString(\"function () {\\n    var handler = (function (ko, koPunches) {\\n    ko.punches.enableAll();\\n    ko.bindingHandlers.numericValue = {\\n        init: function(element, valueAccessor, allBindings, data, context) {\\n            var stringified = ko.observable(ko.unwrap(valueAccessor()));\\n            stringified.subscribe(function(value) {\\n                var val = parseFloat(value);\\n                if (!isNaN(val)) {\\n                    valueAccessor()(val);\\n                }\\n            });\\n            valueAccessor().subscribe(function(value) {\\n                var str = JSON.stringify(value);\\n                if ((str == \\\"0\\\") && ([\\\"-0\\\", \\\"-0.\\\"].indexOf(stringified()) >= 0))\\n                     return;\\n                 if ([\\\"null\\\", \\\"\\\"].indexOf(str) >= 0)\\n                     return;\\n                stringified(str);\\n            });\\n            ko.applyBindingsToNode(\\n                element,\\n                {\\n                    value: stringified,\\n                    valueUpdate: allBindings.get('valueUpdate'),\\n                },\\n                context,\\n            );\\n        }\\n    };\\n    var json_data = {\\\"formatted_vals\\\":[\\\"2\\\",\\\"3\\\",\\\"4\\\",\\\"5\\\",\\\"6\\\",\\\"7\\\",\\\"8\\\",\\\"9\\\",\\\"10\\\"],\\\"changes\\\":WebIO.getval({\\\"name\\\":\\\"changes\\\",\\\"scope\\\":\\\"14314753658483964\\\",\\\"id\\\":\\\"ob_12\\\",\\\"type\\\":\\\"observable\\\"}),\\\"index\\\":WebIO.getval({\\\"name\\\":\\\"index\\\",\\\"scope\\\":\\\"14314753658483964\\\",\\\"id\\\":\\\"ob_11\\\",\\\"type\\\":\\\"observable\\\"})};\\n    var self = this;\\n    function AppViewModel() {\\n        for (var key in json_data) {\\n            var el = json_data[key];\\n            this[key] = Array.isArray(el) ? ko.observableArray(el) : ko.observable(el);\\n        }\\n        \\n        [this[\\\"formatted_val\\\"]=ko.computed(    function(){\\n        return this.formatted_vals()[parseInt(this.index())-(2)];\\n    }\\n,this)]\\n        [this[\\\"changes\\\"].subscribe((function (val){!(this.valueFromJulia[\\\"changes\\\"]) ? (WebIO.setval({\\\"name\\\":\\\"changes\\\",\\\"scope\\\":\\\"14314753658483964\\\",\\\"id\\\":\\\"ob_12\\\",\\\"type\\\":\\\"observable\\\"},val)) : undefined; return this.valueFromJulia[\\\"changes\\\"]=false}),self),this[\\\"index\\\"].subscribe((function (val){!(this.valueFromJulia[\\\"index\\\"]) ? (WebIO.setval({\\\"name\\\":\\\"index\\\",\\\"scope\\\":\\\"14314753658483964\\\",\\\"id\\\":\\\"ob_11\\\",\\\"type\\\":\\\"observable\\\"},val)) : undefined; return this.valueFromJulia[\\\"index\\\"]=false}),self)]\\n        \\n    }\\n    self.model = new AppViewModel();\\n    self.valueFromJulia = {};\\n    for (var key in json_data) {\\n        self.valueFromJulia[key] = false;\\n    }\\n    ko.applyBindings(self.model, self.dom);\\n}\\n);\\n    (WebIO.importBlock({\\\"data\\\":[{\\\"name\\\":\\\"knockout\\\",\\\"type\\\":\\\"js\\\",\\\"url\\\":\\\"/assetserver/c745b45446e53434188646e7ab5027b338525470-knockout.js\\\"},{\\\"name\\\":\\\"knockout_punches\\\",\\\"type\\\":\\\"js\\\",\\\"url\\\":\\\"/assetserver/186c395d602dc61d968c44ac922b2a694ade623d-knockout_punches.js\\\"}],\\\"type\\\":\\\"async_block\\\"})).then((imports) => handler.apply(this, imports));\\n}\\n\")])], Dict{Symbol,Any}(:className => \"field interact-widget\")), Observable{Any} with 0 listeners. Value:\n",
       "Node{WebIO.DOM}(WebIO.DOM(:html, :div), Any[Plot{Plots.GRBackend() n=1}], Dict{Symbol,Any}(:className => \"interact-flex-row interact-widget\"))], Dict{Symbol,Any}())"
      ]
     },
     "execution_count": 4,
     "metadata": {
      "@webio": {
       "kernelId": "5dbc14a6-58a1-40fb-aa08-04aa506bb263"
      }
     },
     "output_type": "execute_result"
    }
   ],
   "source": [
    "x=LinRange(0,10,100); \n",
    "@manipulate for j=0:10, k=2:10\n",
    "    plot(x,@. k*sin(x -2*pi*j/10))\n",
    "    xlabel!(L\"x\");ylabel!(L\"f(x)\")\n",
    "    title!(\"Shift to $(j/10) 2\\\\pi\")\n",
    "end"
   ]
  },
  {
   "cell_type": "code",
   "execution_count": 6,
   "metadata": {},
   "outputs": [
    {
     "data": {
      "image/svg+xml": [
       "<?xml version=\"1.0\" encoding=\"utf-8\"?>\n",
       "<svg xmlns=\"http://www.w3.org/2000/svg\" xmlns:xlink=\"http://www.w3.org/1999/xlink\" width=\"700\" height=\"200\" viewBox=\"0 0 2800 800\">\n",
       "<defs>\n",
       "  <clipPath id=\"clip7300\">\n",
       "    <rect x=\"0\" y=\"0\" width=\"2800\" height=\"800\"/>\n",
       "  </clipPath>\n",
       "</defs>\n",
       "<path clip-path=\"url(#clip7300)\" d=\"\n",
       "M0 800 L2800 800 L2800 0 L0 0  Z\n",
       "  \" fill=\"#ffffff\" fill-rule=\"evenodd\" fill-opacity=\"1\"/>\n",
       "<defs>\n",
       "  <clipPath id=\"clip7301\">\n",
       "    <rect x=\"560\" y=\"0\" width=\"1961\" height=\"800\"/>\n",
       "  </clipPath>\n",
       "</defs>\n",
       "<path clip-path=\"url(#clip7300)\" d=\"\n",
       "M186.008 714.637 L2752.76 714.637 L2752.76 47.2441 L186.008 47.2441  Z\n",
       "  \" fill=\"#ffffff\" fill-rule=\"evenodd\" fill-opacity=\"1\"/>\n",
       "<defs>\n",
       "  <clipPath id=\"clip7302\">\n",
       "    <rect x=\"186\" y=\"47\" width=\"2568\" height=\"668\"/>\n",
       "  </clipPath>\n",
       "</defs>\n",
       "<polyline clip-path=\"url(#clip7300)\" style=\"stroke:#000000; stroke-width:4; stroke-opacity:1; fill:none\" points=\"\n",
       "  186.008,714.637 2752.76,714.637 \n",
       "  \"/>\n",
       "<polyline clip-path=\"url(#clip7300)\" style=\"stroke:#000000; stroke-width:4; stroke-opacity:1; fill:none\" points=\"\n",
       "  186.008,714.637 186.008,47.2441 \n",
       "  \"/>\n",
       "<polyline clip-path=\"url(#clip7300)\" style=\"stroke:#000000; stroke-width:4; stroke-opacity:1; fill:none\" points=\"\n",
       "  234.193,714.637 234.193,706.628 \n",
       "  \"/>\n",
       "<polyline clip-path=\"url(#clip7300)\" style=\"stroke:#000000; stroke-width:4; stroke-opacity:1; fill:none\" points=\"\n",
       "  845.673,714.637 845.673,706.628 \n",
       "  \"/>\n",
       "<polyline clip-path=\"url(#clip7300)\" style=\"stroke:#000000; stroke-width:4; stroke-opacity:1; fill:none\" points=\"\n",
       "  1457.15,714.637 1457.15,706.628 \n",
       "  \"/>\n",
       "<polyline clip-path=\"url(#clip7300)\" style=\"stroke:#000000; stroke-width:4; stroke-opacity:1; fill:none\" points=\"\n",
       "  2068.63,714.637 2068.63,706.628 \n",
       "  \"/>\n",
       "<polyline clip-path=\"url(#clip7300)\" style=\"stroke:#000000; stroke-width:4; stroke-opacity:1; fill:none\" points=\"\n",
       "  2680.11,714.637 2680.11,706.628 \n",
       "  \"/>\n",
       "<polyline clip-path=\"url(#clip7300)\" style=\"stroke:#000000; stroke-width:4; stroke-opacity:1; fill:none\" points=\"\n",
       "  186.008,695.942 216.809,695.942 \n",
       "  \"/>\n",
       "<polyline clip-path=\"url(#clip7300)\" style=\"stroke:#000000; stroke-width:4; stroke-opacity:1; fill:none\" points=\"\n",
       "  186.008,538.465 216.809,538.465 \n",
       "  \"/>\n",
       "<polyline clip-path=\"url(#clip7300)\" style=\"stroke:#000000; stroke-width:4; stroke-opacity:1; fill:none\" points=\"\n",
       "  186.008,380.989 216.809,380.989 \n",
       "  \"/>\n",
       "<polyline clip-path=\"url(#clip7300)\" style=\"stroke:#000000; stroke-width:4; stroke-opacity:1; fill:none\" points=\"\n",
       "  186.008,223.512 216.809,223.512 \n",
       "  \"/>\n",
       "<polyline clip-path=\"url(#clip7300)\" style=\"stroke:#000000; stroke-width:4; stroke-opacity:1; fill:none\" points=\"\n",
       "  186.008,66.0357 216.809,66.0357 \n",
       "  \"/>\n",
       "<g clip-path=\"url(#clip7300)\">\n",
       "<text style=\"fill:#000000; fill-opacity:1; font-family:Arial,Helvetica Neue,Helvetica,sans-serif; font-size:48px; text-anchor:middle;\" transform=\"rotate(0, 234.193, 770.637)\" x=\"234.193\" y=\"770.637\">0</text>\n",
       "</g>\n",
       "<g clip-path=\"url(#clip7300)\">\n",
       "<text style=\"fill:#000000; fill-opacity:1; font-family:Arial,Helvetica Neue,Helvetica,sans-serif; font-size:48px; text-anchor:middle;\" transform=\"rotate(0, 845.673, 770.637)\" x=\"845.673\" y=\"770.637\">25</text>\n",
       "</g>\n",
       "<g clip-path=\"url(#clip7300)\">\n",
       "<text style=\"fill:#000000; fill-opacity:1; font-family:Arial,Helvetica Neue,Helvetica,sans-serif; font-size:48px; text-anchor:middle;\" transform=\"rotate(0, 1457.15, 770.637)\" x=\"1457.15\" y=\"770.637\">50</text>\n",
       "</g>\n",
       "<g clip-path=\"url(#clip7300)\">\n",
       "<text style=\"fill:#000000; fill-opacity:1; font-family:Arial,Helvetica Neue,Helvetica,sans-serif; font-size:48px; text-anchor:middle;\" transform=\"rotate(0, 2068.63, 770.637)\" x=\"2068.63\" y=\"770.637\">75</text>\n",
       "</g>\n",
       "<g clip-path=\"url(#clip7300)\">\n",
       "<text style=\"fill:#000000; fill-opacity:1; font-family:Arial,Helvetica Neue,Helvetica,sans-serif; font-size:48px; text-anchor:middle;\" transform=\"rotate(0, 2680.11, 770.637)\" x=\"2680.11\" y=\"770.637\">100</text>\n",
       "</g>\n",
       "<g clip-path=\"url(#clip7300)\">\n",
       "<text style=\"fill:#000000; fill-opacity:1; font-family:Arial,Helvetica Neue,Helvetica,sans-serif; font-size:48px; text-anchor:end;\" transform=\"rotate(0, 158.008, 713.442)\" x=\"158.008\" y=\"713.442\">-1.0</text>\n",
       "</g>\n",
       "<g clip-path=\"url(#clip7300)\">\n",
       "<text style=\"fill:#000000; fill-opacity:1; font-family:Arial,Helvetica Neue,Helvetica,sans-serif; font-size:48px; text-anchor:end;\" transform=\"rotate(0, 158.008, 555.965)\" x=\"158.008\" y=\"555.965\">-0.5</text>\n",
       "</g>\n",
       "<g clip-path=\"url(#clip7300)\">\n",
       "<text style=\"fill:#000000; fill-opacity:1; font-family:Arial,Helvetica Neue,Helvetica,sans-serif; font-size:48px; text-anchor:end;\" transform=\"rotate(0, 158.008, 398.489)\" x=\"158.008\" y=\"398.489\">0.0</text>\n",
       "</g>\n",
       "<g clip-path=\"url(#clip7300)\">\n",
       "<text style=\"fill:#000000; fill-opacity:1; font-family:Arial,Helvetica Neue,Helvetica,sans-serif; font-size:48px; text-anchor:end;\" transform=\"rotate(0, 158.008, 241.012)\" x=\"158.008\" y=\"241.012\">0.5</text>\n",
       "</g>\n",
       "<g clip-path=\"url(#clip7300)\">\n",
       "<text style=\"fill:#000000; fill-opacity:1; font-family:Arial,Helvetica Neue,Helvetica,sans-serif; font-size:48px; text-anchor:end;\" transform=\"rotate(0, 158.008, 83.5357)\" x=\"158.008\" y=\"83.5357\">1.0</text>\n",
       "</g>\n",
       "<polyline clip-path=\"url(#clip7302)\" style=\"stroke:#009af9; stroke-width:4; stroke-opacity:1; fill:none\" points=\"\n",
       "  258.652,380.989 283.111,349.229 307.57,317.794 332.029,287.002 356.489,257.169 380.948,228.598 405.407,201.581 429.866,176.392 454.325,153.289 478.785,132.508 \n",
       "  503.244,114.26 527.703,98.7303 552.162,86.0784 576.621,76.433 601.081,69.8924 625.54,66.5231 649.999,66.3597 674.458,69.4037 698.917,75.6241 723.377,84.9575 \n",
       "  747.836,97.3088 772.295,112.552 796.754,130.532 821.213,151.065 845.673,173.942 870.132,198.929 894.591,225.773 919.05,254.199 943.509,283.917 967.968,314.625 \n",
       "  992.428,346.01 1016.89,377.751 1041.35,409.525 1065.81,441.009 1090.26,471.88 1114.72,501.825 1139.18,530.538 1163.64,557.726 1188.1,583.113 1212.56,606.439 \n",
       "  1237.02,627.467 1261.48,645.982 1285.94,661.796 1310.4,674.747 1334.86,684.703 1359.32,691.564 1383.77,695.258 1408.23,695.748 1432.69,693.03 1457.15,687.13 \n",
       "  1481.61,678.11 1506.07,666.06 1530.53,651.105 1554.99,633.396 1579.45,613.113 1603.91,590.465 1628.37,565.68 1652.83,539.013 1677.29,510.736 1701.74,481.135 \n",
       "  1726.2,450.513 1750.66,419.183 1775.12,387.463 1799.58,355.678 1824.04,324.15 1848.5,293.202 1872.96,263.149 1897.42,234.297 1921.88,206.94 1946.34,181.358 \n",
       "  1970.8,157.811 1995.25,136.539 2019.71,117.759 2044.17,101.662 2068.63,88.4136 2093.09,78.1473 2117.55,70.9682 2142.01,66.9497 2166.47,66.1326 2190.93,68.5252 \n",
       "  2215.39,74.1032 2239.85,82.8097 2264.31,94.5559 2288.76,109.222 2313.22,126.659 2337.68,146.688 2362.14,169.106 2386.6,193.684 2411.06,220.172 2435.52,248.299 \n",
       "  2459.98,277.778 2484.44,308.31 2508.9,339.583 2533.36,371.278 2557.82,403.071 2582.28,434.64 2606.73,465.662 2631.19,495.82 2655.65,524.808 2680.11,552.33 \n",
       "  \n",
       "  \"/>\n",
       "</svg>\n"
      ]
     },
     "execution_count": 6,
     "metadata": {},
     "output_type": "execute_result"
    }
   ],
   "source": [
    "plot(sin.(x))"
   ]
  },
  {
   "cell_type": "code",
   "execution_count": 7,
   "metadata": {},
   "outputs": [],
   "source": [
    "savefig(\"test.pdf\")"
   ]
  },
  {
   "cell_type": "code",
   "execution_count": null,
   "metadata": {},
   "outputs": [],
   "source": []
  },
  {
   "cell_type": "markdown",
   "metadata": {},
   "source": [
    "## Save a high quality figure\n",
    "savefig(\"test.pdf\") "
   ]
  },
  {
   "cell_type": "markdown",
   "metadata": {},
   "source": [
    "Find and open this figure using the regular linux file browser. \n",
    "\n",
    "Zoom in and check the quality of the saved graphics object"
   ]
  },
  {
   "cell_type": "markdown",
   "metadata": {},
   "source": [
    "## Test that linear algebra works"
   ]
  },
  {
   "cell_type": "code",
   "execution_count": 8,
   "metadata": {},
   "outputs": [],
   "source": [
    "using LinearAlgebra"
   ]
  },
  {
   "cell_type": "code",
   "execution_count": 9,
   "metadata": {},
   "outputs": [
    {
     "data": {
      "text/plain": [
       "Eigen{Complex{Float64},Complex{Float64},Array{Complex{Float64},2},Array{Complex{Float64},1}}\n",
       "eigenvalues:\n",
       "100-element Array{Complex{Float64},1}:\n",
       "  -9.625293822164306 - 0.17427178676802776im\n",
       "  -9.625293822164306 + 0.17427178676802776im\n",
       "  -8.636008024299288 - 3.7934460112610937im \n",
       "  -8.636008024299288 + 3.7934460112610937im \n",
       "  -7.957417164011852 + 0.0im                \n",
       " -7.9523873429861816 - 5.168965348825997im  \n",
       " -7.9523873429861816 + 5.168965348825997im  \n",
       " -7.0359734980643385 - 5.506517558127406im  \n",
       " -7.0359734980643385 + 5.506517558127406im  \n",
       "  -6.917788168914565 - 1.6164746804941967im \n",
       "  -6.917788168914565 + 1.6164746804941967im \n",
       "  -6.795378739429236 - 0.48872504208274653im\n",
       "  -6.795378739429236 + 0.48872504208274653im\n",
       "                     ⋮                      \n",
       "    6.04987616608016 + 6.885017821164027im  \n",
       "   6.884825242583068 - 6.876586397551593im  \n",
       "   6.884825242583068 + 6.876586397551593im  \n",
       "   7.917201332958415 - 0.6629822750675358im \n",
       "   7.917201332958415 + 0.6629822750675358im \n",
       "   8.225220430681409 - 4.341020455394259im  \n",
       "   8.225220430681409 + 4.341020455394259im  \n",
       "   8.247774517643577 - 2.7253888678295874im \n",
       "   8.247774517643577 + 2.7253888678295874im \n",
       "   8.613926680826175 + 0.0im                \n",
       "   9.260432024189225 - 2.2352887575569254im \n",
       "   9.260432024189225 + 2.2352887575569254im \n",
       "eigenvectors:\n",
       "100×100 Array{Complex{Float64},2}:\n",
       " -0.0811754-0.00810824im  …  0.000752065-0.0295723im \n",
       "   -0.24249-0.0073502im       -0.0189322-0.0206762im \n",
       "  0.0873835+0.046885im         -0.069833+0.0252067im \n",
       "  0.0645746-0.0288444im       -0.0782668-0.119679im  \n",
       "   0.125745-0.00972938im      0.00765578+0.0595381im \n",
       "  -0.215072+0.00871114im  …   -0.0763484+0.0968836im \n",
       "  -0.097699-0.00883811im     -0.00353548-0.0506851im \n",
       "   -0.17403+0.0456532im       -0.0960496-0.115273im  \n",
       " -0.0736475-0.0303914im        0.0909575-0.0183146im \n",
       " -0.0556376+0.0404991im       -0.0599952-0.0326886im \n",
       "   0.102065-0.00557398im  …    0.0187302-0.00377003im\n",
       "  0.0103296+0.0356488im       -0.0745286-0.10858im   \n",
       "  0.0802841-0.0399158im       -0.0171769+0.051841im  \n",
       "           ⋮              ⋱                          \n",
       "  0.0289413-0.00953171im       0.0117642-0.017902im  \n",
       " 0.00546426-0.00412898im      -0.0472892+0.0491704im \n",
       "  0.0353169-0.00339936im  …    0.0768939-0.0447812im \n",
       "   0.093175-0.0217043im       -0.0296589+0.0322701im \n",
       " -0.0174555+0.00205815im       -0.107952+0.0204665im \n",
       "  0.0765516-0.0442722im       -0.0692726-0.0658659im \n",
       "  0.0536804+0.00890535im       0.0563934-0.0776031im \n",
       "  0.0667002-0.00881247im  …   -0.0458045-0.018im     \n",
       "  0.0161879+0.0217125im      -0.00622557+0.0460247im \n",
       " -0.0186223-0.0181234im        0.0782526-0.0181918im \n",
       "   0.157197-0.0239911im       -0.0521558+0.006321im  \n",
       "  0.0356202+0.0145069im        0.0596643+0.00947942im"
      ]
     },
     "execution_count": 9,
     "metadata": {},
     "output_type": "execute_result"
    }
   ],
   "source": [
    "A = randn(100,100)\n",
    "U,V = eigen(A)"
   ]
  },
  {
   "cell_type": "code",
   "execution_count": null,
   "metadata": {},
   "outputs": [],
   "source": []
  }
 ],
 "metadata": {
  "@webio": {
   "lastCommId": "0e397385-c7cb-44b8-a080-8d4725170506",
   "lastKernelId": "544b496d-bb2d-40db-b577-fa34097e4f1f"
  },
  "kernelspec": {
   "display_name": "Julia 1.3.1",
   "language": "julia",
   "name": "julia-1.3"
  },
  "language_info": {
   "file_extension": ".jl",
   "mimetype": "application/julia",
   "name": "julia",
   "version": "1.3.1"
  }
 },
 "nbformat": 4,
 "nbformat_minor": 4
}
